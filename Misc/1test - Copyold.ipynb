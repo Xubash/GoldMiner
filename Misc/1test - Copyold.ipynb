{
 "cells": [
  {
   "cell_type": "code",
   "execution_count": 174,
   "metadata": {},
   "outputs": [],
   "source": [
    "import numpy as np \n",
    "import pandas as pd\n",
    "import sys\n",
    "from sklearn.tree import DecisionTreeClassifier"
   ]
  },
  {
   "cell_type": "code",
   "execution_count": 178,
   "metadata": {},
   "outputs": [
    {
     "name": "stderr",
     "output_type": "stream",
     "text": [
      "C:\\ProgramData\\Anaconda3\\lib\\site-packages\\IPython\\core\\interactiveshell.py:2785: DtypeWarning: Columns (7,13,22) have mixed types. Specify dtype option on import or set low_memory=False.\n",
      "  interactivity=interactivity, compiler=compiler, result=result)\n"
     ]
    },
    {
     "data": {
      "text/html": [
       "<div>\n",
       "<style scoped>\n",
       "    .dataframe tbody tr th:only-of-type {\n",
       "        vertical-align: middle;\n",
       "    }\n",
       "\n",
       "    .dataframe tbody tr th {\n",
       "        vertical-align: top;\n",
       "    }\n",
       "\n",
       "    .dataframe thead th {\n",
       "        text-align: right;\n",
       "    }\n",
       "</style>\n",
       "<table border=\"1\" class=\"dataframe\">\n",
       "  <thead>\n",
       "    <tr style=\"text-align: right;\">\n",
       "      <th></th>\n",
       "      <th>NPI</th>\n",
       "      <th>PROVIDERNAME</th>\n",
       "      <th>ENTITY_TYPE_CODE</th>\n",
       "      <th>P_O_N_LEGAL_BUSINESS_NAME</th>\n",
       "      <th>P_F_L_B_M_ADDRESS</th>\n",
       "      <th>PROV_B_M_A_CITY_NAME</th>\n",
       "      <th>PROV_B_M_A_STATE_NAME</th>\n",
       "      <th>PROV_B_M_A_POSTAL_CODE</th>\n",
       "      <th>PROV_B_M_A_CNT_CODE_OUT_US</th>\n",
       "      <th>PROV_B_M_A_TELEPHONE_NUMBER</th>\n",
       "      <th>...</th>\n",
       "      <th>AUTH_OFF_FRST_NAME</th>\n",
       "      <th>AUTH_OFF_MIDDLE_NAME</th>\n",
       "      <th>AUTH_OFF_TITLE_OR_POSITION</th>\n",
       "      <th>AUTH_OFF_TELEPHONE_NUMBER</th>\n",
       "      <th>H_P_T_CODE_1</th>\n",
       "      <th>PROV_LIC_NUM_1</th>\n",
       "      <th>PROV_LIC_NUM_STATE_CODE_1</th>\n",
       "      <th>H_P_P_T_SWITCH_1</th>\n",
       "      <th>PRIMARY_TAXONOMY</th>\n",
       "      <th>SPECDESC</th>\n",
       "    </tr>\n",
       "  </thead>\n",
       "  <tbody>\n",
       "    <tr>\n",
       "      <th>0</th>\n",
       "      <td>1396819231</td>\n",
       "      <td>GUSKY-SHARP, KATHLEEN NONE</td>\n",
       "      <td>1</td>\n",
       "      <td>NaN</td>\n",
       "      <td>105 VISTA VIEW DR</td>\n",
       "      <td>CLOVERDALE</td>\n",
       "      <td>CA</td>\n",
       "      <td>954253373</td>\n",
       "      <td>US</td>\n",
       "      <td>7078947409</td>\n",
       "      <td>...</td>\n",
       "      <td>NaN</td>\n",
       "      <td>NaN</td>\n",
       "      <td>NaN</td>\n",
       "      <td>NaN</td>\n",
       "      <td>171W00000X</td>\n",
       "      <td>CAOT#12</td>\n",
       "      <td>CA</td>\n",
       "      <td>Y</td>\n",
       "      <td>171W00000X</td>\n",
       "      <td>Contractor</td>\n",
       "    </tr>\n",
       "    <tr>\n",
       "      <th>1</th>\n",
       "      <td>1194890707</td>\n",
       "      <td>TARTLER, ADRIAN LASZLO</td>\n",
       "      <td>1</td>\n",
       "      <td>NaN</td>\n",
       "      <td>311 N QUENTIN ST</td>\n",
       "      <td>WICHITA</td>\n",
       "      <td>KS</td>\n",
       "      <td>672083714</td>\n",
       "      <td>US</td>\n",
       "      <td>3166509187</td>\n",
       "      <td>...</td>\n",
       "      <td>NaN</td>\n",
       "      <td>NaN</td>\n",
       "      <td>NaN</td>\n",
       "      <td>NaN</td>\n",
       "      <td>111NI0900X</td>\n",
       "      <td>T-00986</td>\n",
       "      <td>KS</td>\n",
       "      <td>Y</td>\n",
       "      <td>111NI0900X</td>\n",
       "      <td>Internist</td>\n",
       "    </tr>\n",
       "    <tr>\n",
       "      <th>2</th>\n",
       "      <td>1003981614</td>\n",
       "      <td>MONIKA RUKUS, INC.</td>\n",
       "      <td>2</td>\n",
       "      <td>MONIKA RUKUS, INC.</td>\n",
       "      <td>8901 CONNECTICUT AVE</td>\n",
       "      <td>CHEVY CHASE</td>\n",
       "      <td>MD</td>\n",
       "      <td>208156734</td>\n",
       "      <td>US</td>\n",
       "      <td>3019869999</td>\n",
       "      <td>...</td>\n",
       "      <td>MONIKA</td>\n",
       "      <td>L.</td>\n",
       "      <td>OWNER</td>\n",
       "      <td>3019869999</td>\n",
       "      <td>101YM0800X</td>\n",
       "      <td>08641</td>\n",
       "      <td>MD</td>\n",
       "      <td>Y</td>\n",
       "      <td>101YM0800X</td>\n",
       "      <td>Mental Health</td>\n",
       "    </tr>\n",
       "    <tr>\n",
       "      <th>3</th>\n",
       "      <td>1912072521</td>\n",
       "      <td>JAFORD ENTERPRISES</td>\n",
       "      <td>2</td>\n",
       "      <td>JAFORD ENTERPRISES</td>\n",
       "      <td>PO BOX 86028</td>\n",
       "      <td>BATON ROUGE</td>\n",
       "      <td>LA</td>\n",
       "      <td>708796028</td>\n",
       "      <td>US</td>\n",
       "      <td>2252910325</td>\n",
       "      <td>...</td>\n",
       "      <td>SHEVELLE</td>\n",
       "      <td>LIESA</td>\n",
       "      <td>PIC</td>\n",
       "      <td>2252910325</td>\n",
       "      <td>3336C0003X</td>\n",
       "      <td>4058</td>\n",
       "      <td>LA</td>\n",
       "      <td>Y</td>\n",
       "      <td>3336C0003X</td>\n",
       "      <td>Community/Retail Pharmacy</td>\n",
       "    </tr>\n",
       "    <tr>\n",
       "      <th>4</th>\n",
       "      <td>1992870505</td>\n",
       "      <td>OLANO, ANNA A</td>\n",
       "      <td>1</td>\n",
       "      <td>NaN</td>\n",
       "      <td>100 E IRVING PARK RD</td>\n",
       "      <td>ROSELLE</td>\n",
       "      <td>IL</td>\n",
       "      <td>601722048</td>\n",
       "      <td>US</td>\n",
       "      <td>6304390009</td>\n",
       "      <td>...</td>\n",
       "      <td>NaN</td>\n",
       "      <td>NaN</td>\n",
       "      <td>NaN</td>\n",
       "      <td>NaN</td>\n",
       "      <td>225100000X</td>\n",
       "      <td>070-008093</td>\n",
       "      <td>IL</td>\n",
       "      <td>Y</td>\n",
       "      <td>225100000X</td>\n",
       "      <td>Physical Therapist</td>\n",
       "    </tr>\n",
       "  </tbody>\n",
       "</table>\n",
       "<p>5 rows × 29 columns</p>\n",
       "</div>"
      ],
      "text/plain": [
       "          NPI                PROVIDERNAME  ENTITY_TYPE_CODE  \\\n",
       "0  1396819231  GUSKY-SHARP, KATHLEEN NONE                 1   \n",
       "1  1194890707      TARTLER, ADRIAN LASZLO                 1   \n",
       "2  1003981614          MONIKA RUKUS, INC.                 2   \n",
       "3  1912072521          JAFORD ENTERPRISES                 2   \n",
       "4  1992870505               OLANO, ANNA A                 1   \n",
       "\n",
       "  P_O_N_LEGAL_BUSINESS_NAME     P_F_L_B_M_ADDRESS PROV_B_M_A_CITY_NAME  \\\n",
       "0                       NaN     105 VISTA VIEW DR           CLOVERDALE   \n",
       "1                       NaN      311 N QUENTIN ST              WICHITA   \n",
       "2        MONIKA RUKUS, INC.  8901 CONNECTICUT AVE          CHEVY CHASE   \n",
       "3        JAFORD ENTERPRISES          PO BOX 86028          BATON ROUGE   \n",
       "4                       NaN  100 E IRVING PARK RD              ROSELLE   \n",
       "\n",
       "  PROV_B_M_A_STATE_NAME PROV_B_M_A_POSTAL_CODE PROV_B_M_A_CNT_CODE_OUT_US  \\\n",
       "0                    CA              954253373                         US   \n",
       "1                    KS              672083714                         US   \n",
       "2                    MD              208156734                         US   \n",
       "3                    LA              708796028                         US   \n",
       "4                    IL              601722048                         US   \n",
       "\n",
       "  PROV_B_M_A_TELEPHONE_NUMBER            ...             AUTH_OFF_FRST_NAME  \\\n",
       "0                  7078947409            ...                            NaN   \n",
       "1                  3166509187            ...                            NaN   \n",
       "2                  3019869999            ...                         MONIKA   \n",
       "3                  2252910325            ...                       SHEVELLE   \n",
       "4                  6304390009            ...                            NaN   \n",
       "\n",
       "  AUTH_OFF_MIDDLE_NAME AUTH_OFF_TITLE_OR_POSITION AUTH_OFF_TELEPHONE_NUMBER  \\\n",
       "0                  NaN                        NaN                       NaN   \n",
       "1                  NaN                        NaN                       NaN   \n",
       "2                   L.                      OWNER                3019869999   \n",
       "3                LIESA                        PIC                2252910325   \n",
       "4                  NaN                        NaN                       NaN   \n",
       "\n",
       "  H_P_T_CODE_1 PROV_LIC_NUM_1 PROV_LIC_NUM_STATE_CODE_1 H_P_P_T_SWITCH_1  \\\n",
       "0   171W00000X        CAOT#12                        CA                Y   \n",
       "1   111NI0900X        T-00986                        KS                Y   \n",
       "2   101YM0800X          08641                        MD                Y   \n",
       "3   3336C0003X           4058                        LA                Y   \n",
       "4   225100000X     070-008093                        IL                Y   \n",
       "\n",
       "  PRIMARY_TAXONOMY                   SPECDESC  \n",
       "0       171W00000X                 Contractor  \n",
       "1       111NI0900X                  Internist  \n",
       "2       101YM0800X              Mental Health  \n",
       "3       3336C0003X  Community/Retail Pharmacy  \n",
       "4       225100000X         Physical Therapist  \n",
       "\n",
       "[5 rows x 29 columns]"
      ]
     },
     "execution_count": 178,
     "metadata": {},
     "output_type": "execute_result"
    }
   ],
   "source": [
    "my_data = pd.read_csv(\"data.csv\", delimiter=\",\")\n",
    "my_data[0:5]"
   ]
  },
  {
   "cell_type": "code",
   "execution_count": 176,
   "metadata": {},
   "outputs": [],
   "source": [
    "my_data= my_data[0:1000]"
   ]
  },
  {
   "cell_type": "code",
   "execution_count": 177,
   "metadata": {},
   "outputs": [
    {
     "data": {
      "text/plain": [
       "array(['AK', 'AL', 'AR', 'AZ', 'CA', 'CO', 'CT', 'DC', 'DE', 'FL', 'GA',\n",
       "       'HI', 'IA', 'ID', 'IL', 'IN', 'KS', 'KY', 'LA', 'MA', 'MD', 'ME',\n",
       "       'MI', 'MN', 'MO', 'MS', 'MT', 'NC', 'ND', 'NE', 'NH', 'NJ', 'NM',\n",
       "       'NV', 'NY', 'OH', 'OK', 'OR', 'PA', 'PR', 'RI', 'SC', 'SD', 'TN',\n",
       "       'TX', 'UT', 'VA', 'VT', 'WA', 'WI', 'WV', 'WY'], dtype=object)"
      ]
     },
     "execution_count": 177,
     "metadata": {},
     "output_type": "execute_result"
    }
   ],
   "source": [
    "\n",
    "sys.getsizeof(my_data)/(1024*1024*1024)\n",
    "np.unique(my_data[\"PROV_B_M_A_STATE_NAME\"])"
   ]
  },
  {
   "cell_type": "code",
   "execution_count": 161,
   "metadata": {},
   "outputs": [
    {
     "data": {
      "text/plain": [
       "array([[1, 'CA', '954253373'],\n",
       "       [1, 'KS', '672083714'],\n",
       "       [2, 'MD', '208156734']], dtype=object)"
      ]
     },
     "execution_count": 161,
     "metadata": {},
     "output_type": "execute_result"
    }
   ],
   "source": [
    "X = my_data[['ENTITY_TYPE_CODE',  'PROV_B_M_A_STATE_NAME', 'PROV_B_M_A_POSTAL_CODE', 'SPECDESC']].values\n",
    "X[0:3]"
   ]
  },
  {
   "cell_type": "code",
   "execution_count": 162,
   "metadata": {},
   "outputs": [],
   "source": [
    "from sklearn import preprocessing\n",
    "le_STATE_NAME = preprocessing.LabelEncoder()\n",
    "le_STATE_NAME.fit(np.unique(my_data[\"PROV_B_M_A_STATE_NAME\"]))\n",
    "X[:,1] = le_STATE_NAME.transform(X[:,1]) \n",
    "\n",
    "\n"
   ]
  },
  {
   "cell_type": "code",
   "execution_count": 163,
   "metadata": {},
   "outputs": [
    {
     "data": {
      "text/plain": [
       "array([[1, 4, '954253373'],\n",
       "       [1, 16, '672083714'],\n",
       "       [2, 20, '208156734'],\n",
       "       [2, 18, '708796028'],\n",
       "       [1, 14, '601722048'],\n",
       "       [2, 4, '900361714'],\n",
       "       [1, 48, '980077666'],\n",
       "       [1, 5, '802062761'],\n",
       "       [1, 12, '500232400'],\n",
       "       [1, 33, '891092428'],\n",
       "       [1, 4, '943013339'],\n",
       "       [1, 9, '330093765'],\n",
       "       [1, 34, '112032057'],\n",
       "       [2, 24, '657082333'],\n",
       "       [1, 15, '473712124'],\n",
       "       [1, 3, '850204814'],\n",
       "       [2, 22, '495180247'],\n",
       "       [1, 6, '069062269'],\n",
       "       [1, 4, '926837450'],\n",
       "       [1, 9, '329605225'],\n",
       "       [1, 48, '983279796'],\n",
       "       [2, 4, '934584303'],\n",
       "       [1, 23, '56310'],\n",
       "       [1, 39, '009213630'],\n",
       "       [1, 34, '104653013'],\n",
       "       [1, 4, '931018498'],\n",
       "       [2, 14, '606172656'],\n",
       "       [1, 9, '320823228'],\n",
       "       [1, 35, '436143464'],\n",
       "       [2, 32, '871104186'],\n",
       "       [1, 49, '532243500'],\n",
       "       [1, 34, '115902025'],\n",
       "       [2, 47, '054465986'],\n",
       "       [1, 49, '537920001'],\n",
       "       [1, 14, '602011718'],\n",
       "       [1, 34, '132031652'],\n",
       "       [1, 14, '601722048'],\n",
       "       [1, 17, '410113775'],\n",
       "       [1, 9, '336152872'],\n",
       "       [1, 9, '335115911'],\n",
       "       [1, 43, '372043101'],\n",
       "       [1, 9, '327467403'],\n",
       "       [1, 23, '554413859'],\n",
       "       [2, 38, '152032348'],\n",
       "       [1, 27, '27858'],\n",
       "       [1, 44, '770821658'],\n",
       "       [1, 48, '981552713'],\n",
       "       [1, 23, '55350'],\n",
       "       [1, 7, '200072113'],\n",
       "       [1, 22, '486248407'],\n",
       "       [1, 23, '554142959'],\n",
       "       [1, 35, '445051834'],\n",
       "       [1, 22, '480766005'],\n",
       "       [1, 22, '490099456'],\n",
       "       [1, 4, '913644349'],\n",
       "       [1, 14, '606371447'],\n",
       "       [1, 46, '201713223'],\n",
       "       [1, 51, '820729548'],\n",
       "       [2, 17, '427186858'],\n",
       "       [1, 24, '633833023'],\n",
       "       [1, 14, '627949679'],\n",
       "       [1, 3, '850041454'],\n",
       "       [1, 3, '856412741'],\n",
       "       [1, 22, '481882059'],\n",
       "       [2, 4, '956885313'],\n",
       "       [1, 35, '456949083'],\n",
       "       [1, 35, '452477961'],\n",
       "       [1, 22, '481095718'],\n",
       "       [1, 22, '481095718'],\n",
       "       [2, 9, '328224407'],\n",
       "       [1, 35, '441343709'],\n",
       "       [1, 40, '028783104'],\n",
       "       [2, 3, '850389650'],\n",
       "       [1, 6, '065116624'],\n",
       "       [1, 34, '111032306'],\n",
       "       [1, 35, '441222004'],\n",
       "       [1, 0, '999015928'],\n",
       "       [1, 20, '212133939'],\n",
       "       [1, 4, '900153048'],\n",
       "       [1, 14, '600074456'],\n",
       "       [2, 10, '315013547'],\n",
       "       [2, 22, '483232184'],\n",
       "       [2, 9, '346091000'],\n",
       "       [1, 14, '605441979'],\n",
       "       [1, 47, '054619127'],\n",
       "       [1, 9, '334104324'],\n",
       "       [1, 4, '94131'],\n",
       "       [2, 46, '240180526'],\n",
       "       [2, 4, '945341689'],\n",
       "       [1, 9, '33744'],\n",
       "       [1, 3, '850062612'],\n",
       "       [1, 34, '117772119'],\n",
       "       [1, 20, '207121029'],\n",
       "       [1, 4, '900957142'],\n",
       "       [1, 19, '018264623'],\n",
       "       [1, 35, '440922211'],\n",
       "       [1, 10, '300303302'],\n",
       "       [2, 12, '51301'],\n",
       "       [1, 9, '334107430'],\n",
       "       [2, 44, '756062709']], dtype=object)"
      ]
     },
     "execution_count": 163,
     "metadata": {},
     "output_type": "execute_result"
    }
   ],
   "source": [
    "X[0:100]"
   ]
  },
  {
   "cell_type": "code",
   "execution_count": 164,
   "metadata": {},
   "outputs": [
    {
     "data": {
      "text/plain": [
       "0    1396819231\n",
       "1    1194890707\n",
       "2    1003981614\n",
       "3    1912072521\n",
       "4    1992870505\n",
       "Name: NPI, dtype: int64"
      ]
     },
     "execution_count": 164,
     "metadata": {},
     "output_type": "execute_result"
    }
   ],
   "source": [
    "y = my_data[\"NPI\"]\n",
    "y[0:5]\n",
    "\n"
   ]
  },
  {
   "cell_type": "code",
   "execution_count": 165,
   "metadata": {},
   "outputs": [],
   "source": [
    "from sklearn.model_selection import train_test_split\n"
   ]
  },
  {
   "cell_type": "code",
   "execution_count": 166,
   "metadata": {},
   "outputs": [
    {
     "data": {
      "text/plain": [
       "array([[2, 2, '727160445'],\n",
       "       [1, 16, '666040065'],\n",
       "       [2, 9, '331662323'],\n",
       "       ...,\n",
       "       [2, 25, '387629314'],\n",
       "       [1, 44, '752844658'],\n",
       "       [1, 15, '474021149']], dtype=object)"
      ]
     },
     "execution_count": 166,
     "metadata": {},
     "output_type": "execute_result"
    }
   ],
   "source": [
    "X_trainset, X_testset, y_trainset, y_testset = train_test_split(X, y, test_size=0.3, random_state=3)\n",
    "X_trainset"
   ]
  },
  {
   "cell_type": "code",
   "execution_count": 167,
   "metadata": {},
   "outputs": [
    {
     "data": {
      "text/plain": [
       "(700, 3)"
      ]
     },
     "execution_count": 167,
     "metadata": {},
     "output_type": "execute_result"
    }
   ],
   "source": [
    "X_trainset.shape"
   ]
  },
  {
   "cell_type": "code",
   "execution_count": 168,
   "metadata": {},
   "outputs": [
    {
     "data": {
      "text/plain": [
       "(700,)"
      ]
     },
     "execution_count": 168,
     "metadata": {},
     "output_type": "execute_result"
    }
   ],
   "source": [
    "y_trainset.shape"
   ]
  },
  {
   "cell_type": "code",
   "execution_count": 169,
   "metadata": {},
   "outputs": [
    {
     "data": {
      "text/plain": [
       "DecisionTreeClassifier(class_weight=None, criterion='entropy', max_depth=4,\n",
       "            max_features=None, max_leaf_nodes=None,\n",
       "            min_impurity_decrease=0.0, min_impurity_split=None,\n",
       "            min_samples_leaf=1, min_samples_split=2,\n",
       "            min_weight_fraction_leaf=0.0, presort=False, random_state=None,\n",
       "            splitter='best')"
      ]
     },
     "execution_count": 169,
     "metadata": {},
     "output_type": "execute_result"
    }
   ],
   "source": [
    "npiTree = DecisionTreeClassifier(criterion=\"entropy\", max_depth = 4)\n",
    "npiTree # it shows the default parameters"
   ]
  },
  {
   "cell_type": "code",
   "execution_count": 170,
   "metadata": {},
   "outputs": [
    {
     "data": {
      "text/plain": [
       "DecisionTreeClassifier(class_weight=None, criterion='entropy', max_depth=4,\n",
       "            max_features=None, max_leaf_nodes=None,\n",
       "            min_impurity_decrease=0.0, min_impurity_split=None,\n",
       "            min_samples_leaf=1, min_samples_split=2,\n",
       "            min_weight_fraction_leaf=0.0, presort=False, random_state=None,\n",
       "            splitter='best')"
      ]
     },
     "execution_count": 170,
     "metadata": {},
     "output_type": "execute_result"
    }
   ],
   "source": [
    "npiTree.fit(X_trainset,y_trainset)"
   ]
  },
  {
   "cell_type": "code",
   "execution_count": 171,
   "metadata": {},
   "outputs": [],
   "source": [
    "predTree = npiTree.predict(X_testset)"
   ]
  },
  {
   "cell_type": "code",
   "execution_count": 172,
   "metadata": {},
   "outputs": [
    {
     "name": "stdout",
     "output_type": "stream",
     "text": [
      "[1013138247 1003296369 1013934140 1013934140 1003294372]\n",
      "642    1083684419\n",
      "762    1235109570\n",
      "909    1982621017\n",
      "199    1710904099\n",
      "586    1073687927\n",
      "Name: NPI, dtype: int64\n"
     ]
    }
   ],
   "source": [
    "print (predTree [0:5])\n",
    "print (y_testset [0:5])"
   ]
  },
  {
   "cell_type": "code",
   "execution_count": 173,
   "metadata": {},
   "outputs": [
    {
     "name": "stdout",
     "output_type": "stream",
     "text": [
      "DecisionTrees's Accuracy:  0.0\n"
     ]
    }
   ],
   "source": [
    "from sklearn import metrics\n",
    "import matplotlib.pyplot as plt\n",
    "print(\"DecisionTrees's Accuracy: \", metrics.accuracy_score(y_testset, predTree))"
   ]
  },
  {
   "cell_type": "code",
   "execution_count": null,
   "metadata": {},
   "outputs": [],
   "source": []
  },
  {
   "cell_type": "code",
   "execution_count": null,
   "metadata": {},
   "outputs": [],
   "source": []
  },
  {
   "cell_type": "code",
   "execution_count": null,
   "metadata": {},
   "outputs": [],
   "source": []
  },
  {
   "cell_type": "code",
   "execution_count": null,
   "metadata": {},
   "outputs": [],
   "source": []
  },
  {
   "cell_type": "code",
   "execution_count": null,
   "metadata": {},
   "outputs": [],
   "source": []
  },
  {
   "cell_type": "code",
   "execution_count": null,
   "metadata": {},
   "outputs": [],
   "source": []
  },
  {
   "cell_type": "code",
   "execution_count": null,
   "metadata": {},
   "outputs": [],
   "source": []
  },
  {
   "cell_type": "code",
   "execution_count": null,
   "metadata": {},
   "outputs": [],
   "source": []
  },
  {
   "cell_type": "code",
   "execution_count": null,
   "metadata": {},
   "outputs": [],
   "source": []
  }
 ],
 "metadata": {
  "kernelspec": {
   "display_name": "Python 3",
   "language": "python",
   "name": "python3"
  },
  "language_info": {
   "codemirror_mode": {
    "name": "ipython",
    "version": 3
   },
   "file_extension": ".py",
   "mimetype": "text/x-python",
   "name": "python",
   "nbconvert_exporter": "python",
   "pygments_lexer": "ipython3",
   "version": "3.6.5"
  }
 },
 "nbformat": 4,
 "nbformat_minor": 2
}
