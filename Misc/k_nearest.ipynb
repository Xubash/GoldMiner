{
 "cells": [
  {
   "cell_type": "code",
   "execution_count": 86,
   "metadata": {},
   "outputs": [],
   "source": [
    "import itertools\n",
    "import numpy as np\n",
    "import matplotlib.pyplot as plt\n",
    "from matplotlib.ticker import NullFormatter\n",
    "import pandas as pd\n",
    "import numpy as np\n",
    "import matplotlib.ticker as ticker\n",
    "from sklearn import preprocessing\n",
    "%matplotlib inline"
   ]
  },
  {
   "cell_type": "code",
   "execution_count": 87,
   "metadata": {},
   "outputs": [
    {
     "data": {
      "text/html": [
       "<div>\n",
       "<style scoped>\n",
       "    .dataframe tbody tr th:only-of-type {\n",
       "        vertical-align: middle;\n",
       "    }\n",
       "\n",
       "    .dataframe tbody tr th {\n",
       "        vertical-align: top;\n",
       "    }\n",
       "\n",
       "    .dataframe thead th {\n",
       "        text-align: right;\n",
       "    }\n",
       "</style>\n",
       "<table border=\"1\" class=\"dataframe\">\n",
       "  <thead>\n",
       "    <tr style=\"text-align: right;\">\n",
       "      <th></th>\n",
       "      <th>NPI</th>\n",
       "      <th>PROVIDERNAME</th>\n",
       "      <th>ENTITY_TYPE_CODE</th>\n",
       "      <th>P_O_N_LEGAL_BUSINESS_NAME</th>\n",
       "      <th>P_F_L_B_M_ADDRESS</th>\n",
       "      <th>PROV_B_M_A_CITY_NAME</th>\n",
       "      <th>PROV_B_M_A_STATE_NAME</th>\n",
       "      <th>PROV_B_M_A_POSTAL_CODE</th>\n",
       "      <th>PROV_B_M_A_CNT_CODE_OUT_US</th>\n",
       "      <th>PROV_B_M_A_TELEPHONE_NUMBER</th>\n",
       "      <th>...</th>\n",
       "      <th>AUTH_OFF_FRST_NAME</th>\n",
       "      <th>AUTH_OFF_MIDDLE_NAME</th>\n",
       "      <th>AUTH_OFF_TITLE_OR_POSITION</th>\n",
       "      <th>AUTH_OFF_TELEPHONE_NUMBER</th>\n",
       "      <th>H_P_T_CODE_1</th>\n",
       "      <th>PROV_LIC_NUM_1</th>\n",
       "      <th>PROV_LIC_NUM_STATE_CODE_1</th>\n",
       "      <th>H_P_P_T_SWITCH_1</th>\n",
       "      <th>PRIMARY_TAXONOMY</th>\n",
       "      <th>SPECDESC</th>\n",
       "    </tr>\n",
       "  </thead>\n",
       "  <tbody>\n",
       "    <tr>\n",
       "      <th>0</th>\n",
       "      <td>1396819231</td>\n",
       "      <td>GUSKY-SHARP, KATHLEEN NONE</td>\n",
       "      <td>1</td>\n",
       "      <td>NaN</td>\n",
       "      <td>105 VISTA VIEW DR</td>\n",
       "      <td>CLOVERDALE</td>\n",
       "      <td>CA</td>\n",
       "      <td>954253373</td>\n",
       "      <td>US</td>\n",
       "      <td>7.078947e+09</td>\n",
       "      <td>...</td>\n",
       "      <td>NaN</td>\n",
       "      <td>NaN</td>\n",
       "      <td>NaN</td>\n",
       "      <td>NaN</td>\n",
       "      <td>171W00000X</td>\n",
       "      <td>CAOT#12</td>\n",
       "      <td>CA</td>\n",
       "      <td>Y</td>\n",
       "      <td>171W00000X</td>\n",
       "      <td>Contractor</td>\n",
       "    </tr>\n",
       "    <tr>\n",
       "      <th>1</th>\n",
       "      <td>1194890707</td>\n",
       "      <td>TARTLER, ADRIAN LASZLO</td>\n",
       "      <td>1</td>\n",
       "      <td>NaN</td>\n",
       "      <td>311 N QUENTIN ST</td>\n",
       "      <td>WICHITA</td>\n",
       "      <td>KS</td>\n",
       "      <td>672083714</td>\n",
       "      <td>US</td>\n",
       "      <td>3.166509e+09</td>\n",
       "      <td>...</td>\n",
       "      <td>NaN</td>\n",
       "      <td>NaN</td>\n",
       "      <td>NaN</td>\n",
       "      <td>NaN</td>\n",
       "      <td>111NI0900X</td>\n",
       "      <td>T-00986</td>\n",
       "      <td>KS</td>\n",
       "      <td>Y</td>\n",
       "      <td>111NI0900X</td>\n",
       "      <td>Internist</td>\n",
       "    </tr>\n",
       "    <tr>\n",
       "      <th>2</th>\n",
       "      <td>1003981614</td>\n",
       "      <td>MONIKA RUKUS, INC.</td>\n",
       "      <td>2</td>\n",
       "      <td>MONIKA RUKUS, INC.</td>\n",
       "      <td>8901 CONNECTICUT AVE</td>\n",
       "      <td>CHEVY CHASE</td>\n",
       "      <td>MD</td>\n",
       "      <td>208156734</td>\n",
       "      <td>US</td>\n",
       "      <td>3.019870e+09</td>\n",
       "      <td>...</td>\n",
       "      <td>MONIKA</td>\n",
       "      <td>L.</td>\n",
       "      <td>OWNER</td>\n",
       "      <td>3.019870e+09</td>\n",
       "      <td>101YM0800X</td>\n",
       "      <td>8641</td>\n",
       "      <td>MD</td>\n",
       "      <td>Y</td>\n",
       "      <td>101YM0800X</td>\n",
       "      <td>Mental Health</td>\n",
       "    </tr>\n",
       "    <tr>\n",
       "      <th>3</th>\n",
       "      <td>1912072521</td>\n",
       "      <td>JAFORD ENTERPRISES</td>\n",
       "      <td>2</td>\n",
       "      <td>JAFORD ENTERPRISES</td>\n",
       "      <td>PO BOX 86028</td>\n",
       "      <td>BATON ROUGE</td>\n",
       "      <td>LA</td>\n",
       "      <td>708796028</td>\n",
       "      <td>US</td>\n",
       "      <td>2.252910e+09</td>\n",
       "      <td>...</td>\n",
       "      <td>SHEVELLE</td>\n",
       "      <td>LIESA</td>\n",
       "      <td>PIC</td>\n",
       "      <td>2.252910e+09</td>\n",
       "      <td>3336C0003X</td>\n",
       "      <td>4058</td>\n",
       "      <td>LA</td>\n",
       "      <td>Y</td>\n",
       "      <td>3336C0003X</td>\n",
       "      <td>Community/Retail Pharmacy</td>\n",
       "    </tr>\n",
       "    <tr>\n",
       "      <th>4</th>\n",
       "      <td>1992870505</td>\n",
       "      <td>OLANO, ANNA A</td>\n",
       "      <td>1</td>\n",
       "      <td>NaN</td>\n",
       "      <td>100 E IRVING PARK RD</td>\n",
       "      <td>ROSELLE</td>\n",
       "      <td>IL</td>\n",
       "      <td>601722048</td>\n",
       "      <td>US</td>\n",
       "      <td>6.304390e+09</td>\n",
       "      <td>...</td>\n",
       "      <td>NaN</td>\n",
       "      <td>NaN</td>\n",
       "      <td>NaN</td>\n",
       "      <td>NaN</td>\n",
       "      <td>225100000X</td>\n",
       "      <td>070-008093</td>\n",
       "      <td>IL</td>\n",
       "      <td>Y</td>\n",
       "      <td>225100000X</td>\n",
       "      <td>Physical Therapist</td>\n",
       "    </tr>\n",
       "  </tbody>\n",
       "</table>\n",
       "<p>5 rows × 29 columns</p>\n",
       "</div>"
      ],
      "text/plain": [
       "          NPI                PROVIDERNAME  ENTITY_TYPE_CODE  \\\n",
       "0  1396819231  GUSKY-SHARP, KATHLEEN NONE                 1   \n",
       "1  1194890707      TARTLER, ADRIAN LASZLO                 1   \n",
       "2  1003981614          MONIKA RUKUS, INC.                 2   \n",
       "3  1912072521          JAFORD ENTERPRISES                 2   \n",
       "4  1992870505               OLANO, ANNA A                 1   \n",
       "\n",
       "  P_O_N_LEGAL_BUSINESS_NAME     P_F_L_B_M_ADDRESS PROV_B_M_A_CITY_NAME  \\\n",
       "0                       NaN     105 VISTA VIEW DR           CLOVERDALE   \n",
       "1                       NaN      311 N QUENTIN ST              WICHITA   \n",
       "2        MONIKA RUKUS, INC.  8901 CONNECTICUT AVE          CHEVY CHASE   \n",
       "3        JAFORD ENTERPRISES          PO BOX 86028          BATON ROUGE   \n",
       "4                       NaN  100 E IRVING PARK RD              ROSELLE   \n",
       "\n",
       "  PROV_B_M_A_STATE_NAME  PROV_B_M_A_POSTAL_CODE PROV_B_M_A_CNT_CODE_OUT_US  \\\n",
       "0                    CA               954253373                         US   \n",
       "1                    KS               672083714                         US   \n",
       "2                    MD               208156734                         US   \n",
       "3                    LA               708796028                         US   \n",
       "4                    IL               601722048                         US   \n",
       "\n",
       "   PROV_B_M_A_TELEPHONE_NUMBER            ...             AUTH_OFF_FRST_NAME  \\\n",
       "0                 7.078947e+09            ...                            NaN   \n",
       "1                 3.166509e+09            ...                            NaN   \n",
       "2                 3.019870e+09            ...                         MONIKA   \n",
       "3                 2.252910e+09            ...                       SHEVELLE   \n",
       "4                 6.304390e+09            ...                            NaN   \n",
       "\n",
       "  AUTH_OFF_MIDDLE_NAME AUTH_OFF_TITLE_OR_POSITION  AUTH_OFF_TELEPHONE_NUMBER  \\\n",
       "0                  NaN                        NaN                        NaN   \n",
       "1                  NaN                        NaN                        NaN   \n",
       "2                   L.                      OWNER               3.019870e+09   \n",
       "3                LIESA                        PIC               2.252910e+09   \n",
       "4                  NaN                        NaN                        NaN   \n",
       "\n",
       "  H_P_T_CODE_1  PROV_LIC_NUM_1 PROV_LIC_NUM_STATE_CODE_1 H_P_P_T_SWITCH_1  \\\n",
       "0   171W00000X         CAOT#12                        CA                Y   \n",
       "1   111NI0900X         T-00986                        KS                Y   \n",
       "2   101YM0800X            8641                        MD                Y   \n",
       "3   3336C0003X            4058                        LA                Y   \n",
       "4   225100000X      070-008093                        IL                Y   \n",
       "\n",
       "  PRIMARY_TAXONOMY                   SPECDESC  \n",
       "0       171W00000X                 Contractor  \n",
       "1       111NI0900X                  Internist  \n",
       "2       101YM0800X              Mental Health  \n",
       "3       3336C0003X  Community/Retail Pharmacy  \n",
       "4       225100000X         Physical Therapist  \n",
       "\n",
       "[5 rows x 29 columns]"
      ]
     },
     "execution_count": 87,
     "metadata": {},
     "output_type": "execute_result"
    }
   ],
   "source": [
    "df = pd.read_csv('training_2.csv')\n",
    "\n",
    "df.head()\n"
   ]
  },
  {
   "cell_type": "code",
   "execution_count": 88,
   "metadata": {},
   "outputs": [
    {
     "data": {
      "text/plain": [
       "1790850303    72\n",
       "1396819231    72\n",
       "1851465611    72\n",
       "1265507875    72\n",
       "1760556526    72\n",
       "1003981614    72\n",
       "1174698781    72\n",
       "1326113937    72\n",
       "1982779591    72\n",
       "1801961412    72\n",
       "1164597779    72\n",
       "1194890707    72\n",
       "1912072521    72\n",
       "1992870505    68\n",
       "1124192984    68\n",
       "1851466460    68\n",
       "1518031368    68\n",
       "1659446276    68\n",
       "1609940451    68\n",
       "1487729000    68\n",
       "1760557375    68\n",
       "1942374707    68\n",
       "1780758524    68\n",
       "1144395757    68\n",
       "1427122274    68\n",
       "1790859544    68\n",
       "1053485896    68\n",
       "1144600479    68\n",
       "1679648281    68\n",
       "1194890715    68\n",
       "1124193735    68\n",
       "1982778734    68\n",
       "1215002829    68\n",
       "1962576702    68\n",
       "1033283890    68\n",
       "1437223286    68\n",
       "1013082635    64\n",
       "1740355361    64\n",
       "1336213180    64\n",
       "1295800811    64\n",
       "1841365467    64\n",
       "1104991728    64\n",
       "1578638193    64\n",
       "1922173541    64\n",
       "1205901824    64\n",
       "1669547287    64\n",
       "1750456372    64\n",
       "1932274552    64\n",
       "1023183647    64\n",
       "1396810917    64\n",
       "Name: NPI, dtype: int64"
      ]
     },
     "execution_count": 88,
     "metadata": {},
     "output_type": "execute_result"
    }
   ],
   "source": [
    "df['NPI'].value_counts()"
   ]
  },
  {
   "cell_type": "code",
   "execution_count": 89,
   "metadata": {},
   "outputs": [],
   "source": [
    "for col in df.columns:\n",
    "    df[col] = df[col].astype(str)\n"
   ]
  },
  {
   "cell_type": "code",
   "execution_count": 90,
   "metadata": {},
   "outputs": [],
   "source": [
    "scl = [[0.0, 'rgb(242,240,247)'],[0.2, 'rgb(218,218,235)'],[0.4, 'rgb(188,189,220)'],\\\n",
    "            [0.6, 'rgb(158,154,200)'],[0.8, 'rgb(117,107,177)'],[1.0, 'rgb(84,39,143)']]\n"
   ]
  },
  {
   "cell_type": "code",
   "execution_count": 91,
   "metadata": {},
   "outputs": [
    {
     "data": {
      "text/plain": [
       "Index(['NPI', 'PROVIDERNAME', 'ENTITY_TYPE_CODE', 'P_O_N_LEGAL_BUSINESS_NAME',\n",
       "       'P_F_L_B_M_ADDRESS', 'PROV_B_M_A_CITY_NAME', 'PROV_B_M_A_STATE_NAME',\n",
       "       'PROV_B_M_A_POSTAL_CODE', 'PROV_B_M_A_CNT_CODE_OUT_US',\n",
       "       'PROV_B_M_A_TELEPHONE_NUMBER', 'PROV_F_L_B_P_LOC_ADDRESS',\n",
       "       'PROV_B_P_B_P_LOC_ADD_CT_NAME', 'PROV_B_P_B_P_LOC_ADD_ST_NAME',\n",
       "       'PROV_B_P_B_P_LOC_ADD_POS_CODE', 'PROV_B_P_B_P_LOC_A_CC_OUT_US',\n",
       "       'PROV_B_P_B_P_LOC_ADD_TEL_NUM', 'PROVIDER_ENUMERATION_DATE',\n",
       "       'LAST_UPDATE_DATE', 'AUTH_OFF_LAST_NAME', 'AUTH_OFF_FRST_NAME',\n",
       "       'AUTH_OFF_MIDDLE_NAME', 'AUTH_OFF_TITLE_OR_POSITION',\n",
       "       'AUTH_OFF_TELEPHONE_NUMBER', 'H_P_T_CODE_1', 'PROV_LIC_NUM_1',\n",
       "       'PROV_LIC_NUM_STATE_CODE_1', 'H_P_P_T_SWITCH_1', 'PRIMARY_TAXONOMY',\n",
       "       'SPECDESC'],\n",
       "      dtype='object')"
      ]
     },
     "execution_count": 91,
     "metadata": {},
     "output_type": "execute_result"
    }
   ],
   "source": [
    "df.columns"
   ]
  },
  {
   "cell_type": "code",
   "execution_count": 92,
   "metadata": {},
   "outputs": [
    {
     "data": {
      "text/plain": [
       "array([['1', 'GUSKY-SHARP, KATHLEEN NONE', 'CA', '954253373',\n",
       "        'Contractor', '7078947409', 'CLOVERDALE', '171W00000X'],\n",
       "       ['1', 'TARTLER, ADRIAN LASZLO', 'KS', '672083714', 'Internist',\n",
       "        '3169460990', 'WICHITA', '111NI0900X'],\n",
       "       ['2', 'MONIKA RUKUS, INC.', 'MD', '208156734', 'Mental Health',\n",
       "        '3019869999', 'CHEVY CHASE', '101YM0800X']], dtype=object)"
      ]
     },
     "execution_count": 92,
     "metadata": {},
     "output_type": "execute_result"
    }
   ],
   "source": [
    "X = df[['ENTITY_TYPE_CODE','PROVIDERNAME', 'PROV_B_M_A_STATE_NAME', 'PROV_B_M_A_POSTAL_CODE', 'SPECDESC','PROV_B_P_B_P_LOC_ADD_TEL_NUM','PROV_B_M_A_CITY_NAME','PRIMARY_TAXONOMY']].values\n",
    "X[0:3]\n"
   ]
  },
  {
   "cell_type": "code",
   "execution_count": 93,
   "metadata": {},
   "outputs": [],
   "source": [
    "from sklearn import preprocessing\n",
    "\n",
    "le_PROVIDERNAME = preprocessing.LabelEncoder()\n",
    "le_PROVIDERNAME.fit(np.unique(df[\"PROVIDERNAME\"]))\n",
    "X[:,1] = le_PROVIDERNAME.transform(X[:,1]) \n",
    "\n",
    "le_STATE_NAME = preprocessing.LabelEncoder()\n",
    "le_STATE_NAME.fit(np.unique(df[\"PROV_B_M_A_STATE_NAME\"]))\n",
    "X[:,2] = le_STATE_NAME.transform(X[:,2]) \n",
    "\n",
    "le_SPECDESC = preprocessing.LabelEncoder()\n",
    "le_SPECDESC.fit(np.unique(df[\"SPECDESC\"]))\n",
    "X[:,4] = le_SPECDESC.transform(X[:,4]) \n",
    "\n",
    "le_CITY_NAME = preprocessing.LabelEncoder()\n",
    "le_CITY_NAME.fit(np.unique(df[\"PROV_B_M_A_CITY_NAME\"]))\n",
    "X[:,6] = le_CITY_NAME.transform(X[:,6]) \n",
    "\n",
    "\n",
    "le_PRIMARY_TAXONOMY = preprocessing.LabelEncoder()\n",
    "le_PRIMARY_TAXONOMY.fit(np.unique(df[\"PRIMARY_TAXONOMY\"]))\n",
    "X[:,7] = le_PRIMARY_TAXONOMY.transform(X[:,7]) \n",
    "\n",
    " \n",
    "\n",
    "\n",
    "\n",
    "\n"
   ]
  },
  {
   "cell_type": "code",
   "execution_count": 94,
   "metadata": {},
   "outputs": [
    {
     "name": "stderr",
     "output_type": "stream",
     "text": [
      "C:\\ProgramData\\Anaconda3\\lib\\site-packages\\sklearn\\utils\\validation.py:590: DataConversionWarning: Data with input dtype object was converted to float64 by StandardScaler.\n",
      "  warnings.warn(msg, DataConversionWarning)\n"
     ]
    },
    {
     "data": {
      "text/plain": [
       "array([[ 0.10302903, -0.00352539, -0.70329987,  1.48296908, -0.63987268,\n",
       "         0.6372938 , -1.0021102 , -0.09560694],\n",
       "       [ 0.10302903,  1.49300208,  0.16521153,  0.64968225,  0.0326075 ,\n",
       "        -1.0434466 ,  1.69004396, -0.88040258],\n",
       "       [ 1.75343746,  0.6549467 ,  0.49090331, -0.7203596 ,  0.14468753,\n",
       "        -1.10775777, -1.14380253, -1.44097089],\n",
       "       [ 1.75343746,  0.23591901,  0.38233939,  0.75809889, -0.75195271,\n",
       "        -1.43748397, -1.49803334,  1.586098  ],\n",
       "       [ 0.10302903,  0.77466889, -0.05191632,  0.44189432,  1.04132776,\n",
       "         0.30598301,  0.83989001,  0.80130236]])"
      ]
     },
     "execution_count": 94,
     "metadata": {},
     "output_type": "execute_result"
    }
   ],
   "source": [
    "\n",
    "X = preprocessing.StandardScaler().fit(X).transform(X.astype(float))\n",
    "X[0:5]"
   ]
  },
  {
   "cell_type": "code",
   "execution_count": 95,
   "metadata": {},
   "outputs": [],
   "source": [
    "y = df['NPI'].values"
   ]
  },
  {
   "cell_type": "code",
   "execution_count": 96,
   "metadata": {},
   "outputs": [
    {
     "name": "stdout",
     "output_type": "stream",
     "text": [
      "Train set: (2716, 8) (2716,)\n",
      "Test set: (680, 8) (680,)\n"
     ]
    }
   ],
   "source": [
    "from sklearn.model_selection import train_test_split\n",
    "X_train, X_test, y_train, y_test = train_test_split( X, y, test_size=0.2, random_state=4)\n",
    "print ('Train set:', X_train.shape,  y_train.shape)\n",
    "print ('Test set:', X_test.shape,  y_test.shape)"
   ]
  },
  {
   "cell_type": "code",
   "execution_count": 97,
   "metadata": {},
   "outputs": [],
   "source": [
    "from sklearn.neighbors import KNeighborsClassifier"
   ]
  },
  {
   "cell_type": "code",
   "execution_count": 98,
   "metadata": {},
   "outputs": [
    {
     "data": {
      "text/plain": [
       "KNeighborsClassifier(algorithm='auto', leaf_size=30, metric='minkowski',\n",
       "           metric_params=None, n_jobs=None, n_neighbors=4, p=2,\n",
       "           weights='uniform')"
      ]
     },
     "execution_count": 98,
     "metadata": {},
     "output_type": "execute_result"
    }
   ],
   "source": [
    "k = 4#Train Model and Predict  \n",
    "neigh = KNeighborsClassifier(n_neighbors = k).fit(X_train,y_train)\n",
    "neigh"
   ]
  },
  {
   "cell_type": "code",
   "execution_count": 102,
   "metadata": {},
   "outputs": [
    {
     "ename": "ValueError",
     "evalue": "could not convert string to float: 'Contractor'",
     "output_type": "error",
     "traceback": [
      "\u001b[1;31m---------------------------------------------------------------------------\u001b[0m",
      "\u001b[1;31mValueError\u001b[0m                                Traceback (most recent call last)",
      "\u001b[1;32m<ipython-input-102-ea5eff7b1c2a>\u001b[0m in \u001b[0;36m<module>\u001b[1;34m()\u001b[0m\n\u001b[1;32m----> 1\u001b[1;33m \u001b[0myhat\u001b[0m \u001b[1;33m=\u001b[0m \u001b[0mneigh\u001b[0m\u001b[1;33m.\u001b[0m\u001b[0mpredict\u001b[0m\u001b[1;33m(\u001b[0m\u001b[0minput\u001b[0m\u001b[1;33m)\u001b[0m\u001b[1;33m\u001b[0m\u001b[0m\n\u001b[0m\u001b[0;32m      2\u001b[0m \u001b[0myhat\u001b[0m\u001b[1;33m[\u001b[0m\u001b[1;36m0\u001b[0m\u001b[1;33m:\u001b[0m\u001b[1;36m3\u001b[0m\u001b[1;33m]\u001b[0m\u001b[1;33m\u001b[0m\u001b[0m\n",
      "\u001b[1;32mC:\\ProgramData\\Anaconda3\\lib\\site-packages\\sklearn\\neighbors\\classification.py\u001b[0m in \u001b[0;36mpredict\u001b[1;34m(self, X)\u001b[0m\n\u001b[0;32m    145\u001b[0m             \u001b[0mClass\u001b[0m \u001b[0mlabels\u001b[0m \u001b[1;32mfor\u001b[0m \u001b[0meach\u001b[0m \u001b[0mdata\u001b[0m \u001b[0msample\u001b[0m\u001b[1;33m.\u001b[0m\u001b[1;33m\u001b[0m\u001b[0m\n\u001b[0;32m    146\u001b[0m         \"\"\"\n\u001b[1;32m--> 147\u001b[1;33m         \u001b[0mX\u001b[0m \u001b[1;33m=\u001b[0m \u001b[0mcheck_array\u001b[0m\u001b[1;33m(\u001b[0m\u001b[0mX\u001b[0m\u001b[1;33m,\u001b[0m \u001b[0maccept_sparse\u001b[0m\u001b[1;33m=\u001b[0m\u001b[1;34m'csr'\u001b[0m\u001b[1;33m)\u001b[0m\u001b[1;33m\u001b[0m\u001b[0m\n\u001b[0m\u001b[0;32m    148\u001b[0m \u001b[1;33m\u001b[0m\u001b[0m\n\u001b[0;32m    149\u001b[0m         \u001b[0mneigh_dist\u001b[0m\u001b[1;33m,\u001b[0m \u001b[0mneigh_ind\u001b[0m \u001b[1;33m=\u001b[0m \u001b[0mself\u001b[0m\u001b[1;33m.\u001b[0m\u001b[0mkneighbors\u001b[0m\u001b[1;33m(\u001b[0m\u001b[0mX\u001b[0m\u001b[1;33m)\u001b[0m\u001b[1;33m\u001b[0m\u001b[0m\n",
      "\u001b[1;32mC:\\ProgramData\\Anaconda3\\lib\\site-packages\\sklearn\\utils\\validation.py\u001b[0m in \u001b[0;36mcheck_array\u001b[1;34m(array, accept_sparse, accept_large_sparse, dtype, order, copy, force_all_finite, ensure_2d, allow_nd, ensure_min_samples, ensure_min_features, warn_on_dtype, estimator)\u001b[0m\n\u001b[0;32m    560\u001b[0m         \u001b[1;31m# make sure we actually converted to numeric:\u001b[0m\u001b[1;33m\u001b[0m\u001b[1;33m\u001b[0m\u001b[0m\n\u001b[0;32m    561\u001b[0m         \u001b[1;32mif\u001b[0m \u001b[0mdtype_numeric\u001b[0m \u001b[1;32mand\u001b[0m \u001b[0marray\u001b[0m\u001b[1;33m.\u001b[0m\u001b[0mdtype\u001b[0m\u001b[1;33m.\u001b[0m\u001b[0mkind\u001b[0m \u001b[1;33m==\u001b[0m \u001b[1;34m\"O\"\u001b[0m\u001b[1;33m:\u001b[0m\u001b[1;33m\u001b[0m\u001b[0m\n\u001b[1;32m--> 562\u001b[1;33m             \u001b[0marray\u001b[0m \u001b[1;33m=\u001b[0m \u001b[0marray\u001b[0m\u001b[1;33m.\u001b[0m\u001b[0mastype\u001b[0m\u001b[1;33m(\u001b[0m\u001b[0mnp\u001b[0m\u001b[1;33m.\u001b[0m\u001b[0mfloat64\u001b[0m\u001b[1;33m)\u001b[0m\u001b[1;33m\u001b[0m\u001b[0m\n\u001b[0m\u001b[0;32m    563\u001b[0m         \u001b[1;32mif\u001b[0m \u001b[1;32mnot\u001b[0m \u001b[0mallow_nd\u001b[0m \u001b[1;32mand\u001b[0m \u001b[0marray\u001b[0m\u001b[1;33m.\u001b[0m\u001b[0mndim\u001b[0m \u001b[1;33m>=\u001b[0m \u001b[1;36m3\u001b[0m\u001b[1;33m:\u001b[0m\u001b[1;33m\u001b[0m\u001b[0m\n\u001b[0;32m    564\u001b[0m             raise ValueError(\"Found array with dim %d. %s expected <= 2.\"\n",
      "\u001b[1;31mValueError\u001b[0m: could not convert string to float: 'Contractor'"
     ]
    }
   ],
   "source": [
    "yhat = neigh.predict(input)\n",
    "yhat[0:3]"
   ]
  },
  {
   "cell_type": "code",
   "execution_count": 100,
   "metadata": {},
   "outputs": [
    {
     "name": "stdout",
     "output_type": "stream",
     "text": [
      "Train set Accuracy:  0.9959499263622975\n"
     ]
    },
    {
     "ename": "ValueError",
     "evalue": "Found input variables with inconsistent numbers of samples: [680, 3396]",
     "output_type": "error",
     "traceback": [
      "\u001b[1;31m---------------------------------------------------------------------------\u001b[0m",
      "\u001b[1;31mValueError\u001b[0m                                Traceback (most recent call last)",
      "\u001b[1;32m<ipython-input-100-0290e161648c>\u001b[0m in \u001b[0;36m<module>\u001b[1;34m()\u001b[0m\n\u001b[0;32m      1\u001b[0m \u001b[1;32mfrom\u001b[0m \u001b[0msklearn\u001b[0m \u001b[1;32mimport\u001b[0m \u001b[0mmetrics\u001b[0m\u001b[1;33m\u001b[0m\u001b[0m\n\u001b[0;32m      2\u001b[0m \u001b[0mprint\u001b[0m\u001b[1;33m(\u001b[0m\u001b[1;34m\"Train set Accuracy: \"\u001b[0m\u001b[1;33m,\u001b[0m \u001b[0mmetrics\u001b[0m\u001b[1;33m.\u001b[0m\u001b[0maccuracy_score\u001b[0m\u001b[1;33m(\u001b[0m\u001b[0my_train\u001b[0m\u001b[1;33m,\u001b[0m \u001b[0mneigh\u001b[0m\u001b[1;33m.\u001b[0m\u001b[0mpredict\u001b[0m\u001b[1;33m(\u001b[0m\u001b[0mX_train\u001b[0m\u001b[1;33m)\u001b[0m\u001b[1;33m)\u001b[0m\u001b[1;33m)\u001b[0m\u001b[1;33m\u001b[0m\u001b[0m\n\u001b[1;32m----> 3\u001b[1;33m \u001b[0mprint\u001b[0m\u001b[1;33m(\u001b[0m\u001b[1;34m\"Test set Accuracy: \"\u001b[0m\u001b[1;33m,\u001b[0m \u001b[0mmetrics\u001b[0m\u001b[1;33m.\u001b[0m\u001b[0maccuracy_score\u001b[0m\u001b[1;33m(\u001b[0m\u001b[0my_test\u001b[0m\u001b[1;33m,\u001b[0m \u001b[0myhat\u001b[0m\u001b[1;33m)\u001b[0m\u001b[1;33m)\u001b[0m\u001b[1;33m\u001b[0m\u001b[0m\n\u001b[0m",
      "\u001b[1;32mC:\\ProgramData\\Anaconda3\\lib\\site-packages\\sklearn\\metrics\\classification.py\u001b[0m in \u001b[0;36maccuracy_score\u001b[1;34m(y_true, y_pred, normalize, sample_weight)\u001b[0m\n\u001b[0;32m    174\u001b[0m \u001b[1;33m\u001b[0m\u001b[0m\n\u001b[0;32m    175\u001b[0m     \u001b[1;31m# Compute accuracy for each possible representation\u001b[0m\u001b[1;33m\u001b[0m\u001b[1;33m\u001b[0m\u001b[0m\n\u001b[1;32m--> 176\u001b[1;33m     \u001b[0my_type\u001b[0m\u001b[1;33m,\u001b[0m \u001b[0my_true\u001b[0m\u001b[1;33m,\u001b[0m \u001b[0my_pred\u001b[0m \u001b[1;33m=\u001b[0m \u001b[0m_check_targets\u001b[0m\u001b[1;33m(\u001b[0m\u001b[0my_true\u001b[0m\u001b[1;33m,\u001b[0m \u001b[0my_pred\u001b[0m\u001b[1;33m)\u001b[0m\u001b[1;33m\u001b[0m\u001b[0m\n\u001b[0m\u001b[0;32m    177\u001b[0m     \u001b[0mcheck_consistent_length\u001b[0m\u001b[1;33m(\u001b[0m\u001b[0my_true\u001b[0m\u001b[1;33m,\u001b[0m \u001b[0my_pred\u001b[0m\u001b[1;33m,\u001b[0m \u001b[0msample_weight\u001b[0m\u001b[1;33m)\u001b[0m\u001b[1;33m\u001b[0m\u001b[0m\n\u001b[0;32m    178\u001b[0m     \u001b[1;32mif\u001b[0m \u001b[0my_type\u001b[0m\u001b[1;33m.\u001b[0m\u001b[0mstartswith\u001b[0m\u001b[1;33m(\u001b[0m\u001b[1;34m'multilabel'\u001b[0m\u001b[1;33m)\u001b[0m\u001b[1;33m:\u001b[0m\u001b[1;33m\u001b[0m\u001b[0m\n",
      "\u001b[1;32mC:\\ProgramData\\Anaconda3\\lib\\site-packages\\sklearn\\metrics\\classification.py\u001b[0m in \u001b[0;36m_check_targets\u001b[1;34m(y_true, y_pred)\u001b[0m\n\u001b[0;32m     69\u001b[0m     \u001b[0my_pred\u001b[0m \u001b[1;33m:\u001b[0m \u001b[0marray\u001b[0m \u001b[1;32mor\u001b[0m \u001b[0mindicator\u001b[0m \u001b[0mmatrix\u001b[0m\u001b[1;33m\u001b[0m\u001b[0m\n\u001b[0;32m     70\u001b[0m     \"\"\"\n\u001b[1;32m---> 71\u001b[1;33m     \u001b[0mcheck_consistent_length\u001b[0m\u001b[1;33m(\u001b[0m\u001b[0my_true\u001b[0m\u001b[1;33m,\u001b[0m \u001b[0my_pred\u001b[0m\u001b[1;33m)\u001b[0m\u001b[1;33m\u001b[0m\u001b[0m\n\u001b[0m\u001b[0;32m     72\u001b[0m     \u001b[0mtype_true\u001b[0m \u001b[1;33m=\u001b[0m \u001b[0mtype_of_target\u001b[0m\u001b[1;33m(\u001b[0m\u001b[0my_true\u001b[0m\u001b[1;33m)\u001b[0m\u001b[1;33m\u001b[0m\u001b[0m\n\u001b[0;32m     73\u001b[0m     \u001b[0mtype_pred\u001b[0m \u001b[1;33m=\u001b[0m \u001b[0mtype_of_target\u001b[0m\u001b[1;33m(\u001b[0m\u001b[0my_pred\u001b[0m\u001b[1;33m)\u001b[0m\u001b[1;33m\u001b[0m\u001b[0m\n",
      "\u001b[1;32mC:\\ProgramData\\Anaconda3\\lib\\site-packages\\sklearn\\utils\\validation.py\u001b[0m in \u001b[0;36mcheck_consistent_length\u001b[1;34m(*arrays)\u001b[0m\n\u001b[0;32m    228\u001b[0m     \u001b[1;32mif\u001b[0m \u001b[0mlen\u001b[0m\u001b[1;33m(\u001b[0m\u001b[0muniques\u001b[0m\u001b[1;33m)\u001b[0m \u001b[1;33m>\u001b[0m \u001b[1;36m1\u001b[0m\u001b[1;33m:\u001b[0m\u001b[1;33m\u001b[0m\u001b[0m\n\u001b[0;32m    229\u001b[0m         raise ValueError(\"Found input variables with inconsistent numbers of\"\n\u001b[1;32m--> 230\u001b[1;33m                          \" samples: %r\" % [int(l) for l in lengths])\n\u001b[0m\u001b[0;32m    231\u001b[0m \u001b[1;33m\u001b[0m\u001b[0m\n\u001b[0;32m    232\u001b[0m \u001b[1;33m\u001b[0m\u001b[0m\n",
      "\u001b[1;31mValueError\u001b[0m: Found input variables with inconsistent numbers of samples: [680, 3396]"
     ]
    }
   ],
   "source": [
    "from sklearn import metrics\n",
    "print(\"Train set Accuracy: \", metrics.accuracy_score(y_train, neigh.predict(X_train)))\n",
    "print(\"Test set Accuracy: \", metrics.accuracy_score(y_test, yhat))"
   ]
  },
  {
   "cell_type": "code",
   "execution_count": 33,
   "metadata": {},
   "outputs": [],
   "source": [
    "input = pd.read_csv('test1.csv')"
   ]
  },
  {
   "cell_type": "code",
   "execution_count": 38,
   "metadata": {},
   "outputs": [],
   "source": []
  },
  {
   "cell_type": "code",
   "execution_count": 39,
   "metadata": {},
   "outputs": [
    {
     "data": {
      "text/plain": [
       "array([[1, 'GUSKY-SHARP, KATHLEEN NONE', 'CA', 954253373, 'Contractor',\n",
       "        7078947409, 'CLOVERDALE', '171W00000X']], dtype=object)"
      ]
     },
     "execution_count": 39,
     "metadata": {},
     "output_type": "execute_result"
    }
   ],
   "source": []
  },
  {
   "cell_type": "code",
   "execution_count": null,
   "metadata": {},
   "outputs": [],
   "source": []
  }
 ],
 "metadata": {
  "kernelspec": {
   "display_name": "Python 3",
   "language": "python",
   "name": "python3"
  },
  "language_info": {
   "codemirror_mode": {
    "name": "ipython",
    "version": 3
   },
   "file_extension": ".py",
   "mimetype": "text/x-python",
   "name": "python",
   "nbconvert_exporter": "python",
   "pygments_lexer": "ipython3",
   "version": "3.6.5"
  }
 },
 "nbformat": 4,
 "nbformat_minor": 2
}
