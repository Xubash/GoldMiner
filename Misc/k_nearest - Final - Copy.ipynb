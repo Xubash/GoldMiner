{
 "cells": [
  {
   "cell_type": "code",
   "execution_count": 43,
   "metadata": {},
   "outputs": [],
   "source": [
    "import itertools\n",
    "import numpy as np\n",
    "import matplotlib.pyplot as plt\n",
    "from matplotlib.ticker import NullFormatter\n",
    "import pandas as pd\n",
    "import numpy as np\n",
    "import matplotlib.ticker as ticker\n",
    "from sklearn import preprocessing\n",
    "%matplotlib inline"
   ]
  },
  {
   "cell_type": "code",
   "execution_count": 44,
   "metadata": {},
   "outputs": [
    {
     "data": {
      "text/html": [
       "<div>\n",
       "<style scoped>\n",
       "    .dataframe tbody tr th:only-of-type {\n",
       "        vertical-align: middle;\n",
       "    }\n",
       "\n",
       "    .dataframe tbody tr th {\n",
       "        vertical-align: top;\n",
       "    }\n",
       "\n",
       "    .dataframe thead th {\n",
       "        text-align: right;\n",
       "    }\n",
       "</style>\n",
       "<table border=\"1\" class=\"dataframe\">\n",
       "  <thead>\n",
       "    <tr style=\"text-align: right;\">\n",
       "      <th></th>\n",
       "      <th>NPI</th>\n",
       "      <th>PROVIDERNAME</th>\n",
       "      <th>ENTITY_TYPE_CODE</th>\n",
       "      <th>P_O_N_LEGAL_BUSINESS_NAME</th>\n",
       "      <th>P_F_L_B_M_ADDRESS</th>\n",
       "      <th>PROV_B_M_A_CITY_NAME</th>\n",
       "      <th>PROV_B_M_A_STATE_NAME</th>\n",
       "      <th>PROV_B_M_A_POSTAL_CODE</th>\n",
       "      <th>PROV_B_M_A_CNT_CODE_OUT_US</th>\n",
       "      <th>PROV_B_M_A_TELEPHONE_NUMBER</th>\n",
       "      <th>...</th>\n",
       "      <th>AUTH_OFF_FRST_NAME</th>\n",
       "      <th>AUTH_OFF_MIDDLE_NAME</th>\n",
       "      <th>AUTH_OFF_TITLE_OR_POSITION</th>\n",
       "      <th>AUTH_OFF_TELEPHONE_NUMBER</th>\n",
       "      <th>H_P_T_CODE_1</th>\n",
       "      <th>PROV_LIC_NUM_1</th>\n",
       "      <th>PROV_LIC_NUM_STATE_CODE_1</th>\n",
       "      <th>H_P_P_T_SWITCH_1</th>\n",
       "      <th>PRIMARY_TAXONOMY</th>\n",
       "      <th>SPECDESC</th>\n",
       "    </tr>\n",
       "  </thead>\n",
       "  <tbody>\n",
       "    <tr>\n",
       "      <th>0</th>\n",
       "      <td>1396819231</td>\n",
       "      <td>GUSKY-SHARP, KATHLEEN NONE</td>\n",
       "      <td>1</td>\n",
       "      <td>NaN</td>\n",
       "      <td>105 VISTA VIEW DR</td>\n",
       "      <td>CLOVERDALE</td>\n",
       "      <td>CA</td>\n",
       "      <td>954253373</td>\n",
       "      <td>US</td>\n",
       "      <td>7.078947e+09</td>\n",
       "      <td>...</td>\n",
       "      <td>NaN</td>\n",
       "      <td>NaN</td>\n",
       "      <td>NaN</td>\n",
       "      <td>NaN</td>\n",
       "      <td>171W00000X</td>\n",
       "      <td>CAOT#12</td>\n",
       "      <td>CA</td>\n",
       "      <td>Y</td>\n",
       "      <td>171W00000X</td>\n",
       "      <td>Contractor</td>\n",
       "    </tr>\n",
       "    <tr>\n",
       "      <th>1</th>\n",
       "      <td>1194890707</td>\n",
       "      <td>TARTLER, ADRIAN LASZLO</td>\n",
       "      <td>1</td>\n",
       "      <td>NaN</td>\n",
       "      <td>311 N QUENTIN ST</td>\n",
       "      <td>WICHITA</td>\n",
       "      <td>KS</td>\n",
       "      <td>672083714</td>\n",
       "      <td>US</td>\n",
       "      <td>3.166509e+09</td>\n",
       "      <td>...</td>\n",
       "      <td>NaN</td>\n",
       "      <td>NaN</td>\n",
       "      <td>NaN</td>\n",
       "      <td>NaN</td>\n",
       "      <td>111NI0900X</td>\n",
       "      <td>T-00986</td>\n",
       "      <td>KS</td>\n",
       "      <td>Y</td>\n",
       "      <td>111NI0900X</td>\n",
       "      <td>Internist</td>\n",
       "    </tr>\n",
       "    <tr>\n",
       "      <th>2</th>\n",
       "      <td>1003981614</td>\n",
       "      <td>MONIKA RUKUS, INC.</td>\n",
       "      <td>2</td>\n",
       "      <td>MONIKA RUKUS, INC.</td>\n",
       "      <td>8901 CONNECTICUT AVE</td>\n",
       "      <td>CHEVY CHASE</td>\n",
       "      <td>MD</td>\n",
       "      <td>208156734</td>\n",
       "      <td>US</td>\n",
       "      <td>3.019870e+09</td>\n",
       "      <td>...</td>\n",
       "      <td>MONIKA</td>\n",
       "      <td>L.</td>\n",
       "      <td>OWNER</td>\n",
       "      <td>3.019870e+09</td>\n",
       "      <td>101YM0800X</td>\n",
       "      <td>8641</td>\n",
       "      <td>MD</td>\n",
       "      <td>Y</td>\n",
       "      <td>101YM0800X</td>\n",
       "      <td>Mental Health</td>\n",
       "    </tr>\n",
       "    <tr>\n",
       "      <th>3</th>\n",
       "      <td>1912072521</td>\n",
       "      <td>JAFORD ENTERPRISES</td>\n",
       "      <td>2</td>\n",
       "      <td>JAFORD ENTERPRISES</td>\n",
       "      <td>PO BOX 86028</td>\n",
       "      <td>BATON ROUGE</td>\n",
       "      <td>LA</td>\n",
       "      <td>708796028</td>\n",
       "      <td>US</td>\n",
       "      <td>2.252910e+09</td>\n",
       "      <td>...</td>\n",
       "      <td>SHEVELLE</td>\n",
       "      <td>LIESA</td>\n",
       "      <td>PIC</td>\n",
       "      <td>2.252910e+09</td>\n",
       "      <td>3336C0003X</td>\n",
       "      <td>4058</td>\n",
       "      <td>LA</td>\n",
       "      <td>Y</td>\n",
       "      <td>3336C0003X</td>\n",
       "      <td>Community/Retail Pharmacy</td>\n",
       "    </tr>\n",
       "    <tr>\n",
       "      <th>4</th>\n",
       "      <td>1992870505</td>\n",
       "      <td>OLANO, ANNA A</td>\n",
       "      <td>1</td>\n",
       "      <td>NaN</td>\n",
       "      <td>100 E IRVING PARK RD</td>\n",
       "      <td>ROSELLE</td>\n",
       "      <td>IL</td>\n",
       "      <td>601722048</td>\n",
       "      <td>US</td>\n",
       "      <td>6.304390e+09</td>\n",
       "      <td>...</td>\n",
       "      <td>NaN</td>\n",
       "      <td>NaN</td>\n",
       "      <td>NaN</td>\n",
       "      <td>NaN</td>\n",
       "      <td>225100000X</td>\n",
       "      <td>070-008093</td>\n",
       "      <td>IL</td>\n",
       "      <td>Y</td>\n",
       "      <td>225100000X</td>\n",
       "      <td>Physical Therapist</td>\n",
       "    </tr>\n",
       "  </tbody>\n",
       "</table>\n",
       "<p>5 rows × 29 columns</p>\n",
       "</div>"
      ],
      "text/plain": [
       "          NPI                PROVIDERNAME  ENTITY_TYPE_CODE  \\\n",
       "0  1396819231  GUSKY-SHARP, KATHLEEN NONE                 1   \n",
       "1  1194890707      TARTLER, ADRIAN LASZLO                 1   \n",
       "2  1003981614          MONIKA RUKUS, INC.                 2   \n",
       "3  1912072521          JAFORD ENTERPRISES                 2   \n",
       "4  1992870505               OLANO, ANNA A                 1   \n",
       "\n",
       "  P_O_N_LEGAL_BUSINESS_NAME     P_F_L_B_M_ADDRESS PROV_B_M_A_CITY_NAME  \\\n",
       "0                       NaN     105 VISTA VIEW DR           CLOVERDALE   \n",
       "1                       NaN      311 N QUENTIN ST              WICHITA   \n",
       "2        MONIKA RUKUS, INC.  8901 CONNECTICUT AVE          CHEVY CHASE   \n",
       "3        JAFORD ENTERPRISES          PO BOX 86028          BATON ROUGE   \n",
       "4                       NaN  100 E IRVING PARK RD              ROSELLE   \n",
       "\n",
       "  PROV_B_M_A_STATE_NAME  PROV_B_M_A_POSTAL_CODE PROV_B_M_A_CNT_CODE_OUT_US  \\\n",
       "0                    CA               954253373                         US   \n",
       "1                    KS               672083714                         US   \n",
       "2                    MD               208156734                         US   \n",
       "3                    LA               708796028                         US   \n",
       "4                    IL               601722048                         US   \n",
       "\n",
       "   PROV_B_M_A_TELEPHONE_NUMBER            ...             AUTH_OFF_FRST_NAME  \\\n",
       "0                 7.078947e+09            ...                            NaN   \n",
       "1                 3.166509e+09            ...                            NaN   \n",
       "2                 3.019870e+09            ...                         MONIKA   \n",
       "3                 2.252910e+09            ...                       SHEVELLE   \n",
       "4                 6.304390e+09            ...                            NaN   \n",
       "\n",
       "  AUTH_OFF_MIDDLE_NAME AUTH_OFF_TITLE_OR_POSITION  AUTH_OFF_TELEPHONE_NUMBER  \\\n",
       "0                  NaN                        NaN                        NaN   \n",
       "1                  NaN                        NaN                        NaN   \n",
       "2                   L.                      OWNER               3.019870e+09   \n",
       "3                LIESA                        PIC               2.252910e+09   \n",
       "4                  NaN                        NaN                        NaN   \n",
       "\n",
       "  H_P_T_CODE_1  PROV_LIC_NUM_1 PROV_LIC_NUM_STATE_CODE_1 H_P_P_T_SWITCH_1  \\\n",
       "0   171W00000X         CAOT#12                        CA                Y   \n",
       "1   111NI0900X         T-00986                        KS                Y   \n",
       "2   101YM0800X            8641                        MD                Y   \n",
       "3   3336C0003X            4058                        LA                Y   \n",
       "4   225100000X      070-008093                        IL                Y   \n",
       "\n",
       "  PRIMARY_TAXONOMY                   SPECDESC  \n",
       "0       171W00000X                 Contractor  \n",
       "1       111NI0900X                  Internist  \n",
       "2       101YM0800X              Mental Health  \n",
       "3       3336C0003X  Community/Retail Pharmacy  \n",
       "4       225100000X         Physical Therapist  \n",
       "\n",
       "[5 rows x 29 columns]"
      ]
     },
     "execution_count": 44,
     "metadata": {},
     "output_type": "execute_result"
    }
   ],
   "source": [
    "df = pd.read_csv('training_2.csv')\n",
    "df.head()\n"
   ]
  },
  {
   "cell_type": "code",
   "execution_count": 45,
   "metadata": {},
   "outputs": [
    {
     "data": {
      "text/plain": [
       "1790850303    72\n",
       "1396819231    72\n",
       "1851465611    72\n",
       "1265507875    72\n",
       "1760556526    72\n",
       "1003981614    72\n",
       "1174698781    72\n",
       "1326113937    72\n",
       "1982779591    72\n",
       "1801961412    72\n",
       "1164597779    72\n",
       "1194890707    72\n",
       "1912072521    72\n",
       "1992870505    68\n",
       "1124192984    68\n",
       "1851466460    68\n",
       "1518031368    68\n",
       "1659446276    68\n",
       "1609940451    68\n",
       "1487729000    68\n",
       "1760557375    68\n",
       "1942374707    68\n",
       "1780758524    68\n",
       "1144395757    68\n",
       "1427122274    68\n",
       "1790859544    68\n",
       "1053485896    68\n",
       "1144600479    68\n",
       "1679648281    68\n",
       "1194890715    68\n",
       "1124193735    68\n",
       "1982778734    68\n",
       "1215002829    68\n",
       "1962576702    68\n",
       "1033283890    68\n",
       "1437223286    68\n",
       "1013082635    64\n",
       "1740355361    64\n",
       "1336213180    64\n",
       "1295800811    64\n",
       "1841365467    64\n",
       "1104991728    64\n",
       "1578638193    64\n",
       "1922173541    64\n",
       "1205901824    64\n",
       "1669547287    64\n",
       "1750456372    64\n",
       "1932274552    64\n",
       "1023183647    64\n",
       "1396810917    64\n",
       "Name: NPI, dtype: int64"
      ]
     },
     "execution_count": 45,
     "metadata": {},
     "output_type": "execute_result"
    }
   ],
   "source": [
    "df['NPI'].value_counts()"
   ]
  },
  {
   "cell_type": "code",
   "execution_count": 46,
   "metadata": {},
   "outputs": [],
   "source": [
    "for col in df.columns:\n",
    "    df[col] = df[col].astype(str)\n"
   ]
  },
  {
   "cell_type": "code",
   "execution_count": 47,
   "metadata": {},
   "outputs": [],
   "source": [
    "scl = [[0.0, 'rgb(242,240,247)'],[0.2, 'rgb(218,218,235)'],[0.4, 'rgb(188,189,220)'],\\\n",
    "            [0.6, 'rgb(158,154,200)'],[0.8, 'rgb(117,107,177)'],[1.0, 'rgb(84,39,143)']]\n"
   ]
  },
  {
   "cell_type": "code",
   "execution_count": 48,
   "metadata": {},
   "outputs": [
    {
     "data": {
      "text/plain": [
       "Index(['NPI', 'PROVIDERNAME', 'ENTITY_TYPE_CODE', 'P_O_N_LEGAL_BUSINESS_NAME',\n",
       "       'P_F_L_B_M_ADDRESS', 'PROV_B_M_A_CITY_NAME', 'PROV_B_M_A_STATE_NAME',\n",
       "       'PROV_B_M_A_POSTAL_CODE', 'PROV_B_M_A_CNT_CODE_OUT_US',\n",
       "       'PROV_B_M_A_TELEPHONE_NUMBER', 'PROV_F_L_B_P_LOC_ADDRESS',\n",
       "       'PROV_B_P_B_P_LOC_ADD_CT_NAME', 'PROV_B_P_B_P_LOC_ADD_ST_NAME',\n",
       "       'PROV_B_P_B_P_LOC_ADD_POS_CODE', 'PROV_B_P_B_P_LOC_A_CC_OUT_US',\n",
       "       'PROV_B_P_B_P_LOC_ADD_TEL_NUM', 'PROVIDER_ENUMERATION_DATE',\n",
       "       'LAST_UPDATE_DATE', 'AUTH_OFF_LAST_NAME', 'AUTH_OFF_FRST_NAME',\n",
       "       'AUTH_OFF_MIDDLE_NAME', 'AUTH_OFF_TITLE_OR_POSITION',\n",
       "       'AUTH_OFF_TELEPHONE_NUMBER', 'H_P_T_CODE_1', 'PROV_LIC_NUM_1',\n",
       "       'PROV_LIC_NUM_STATE_CODE_1', 'H_P_P_T_SWITCH_1', 'PRIMARY_TAXONOMY',\n",
       "       'SPECDESC'],\n",
       "      dtype='object')"
      ]
     },
     "execution_count": 48,
     "metadata": {},
     "output_type": "execute_result"
    }
   ],
   "source": [
    "df.columns"
   ]
  },
  {
   "cell_type": "code",
   "execution_count": 49,
   "metadata": {},
   "outputs": [
    {
     "data": {
      "text/plain": [
       "array([['1', 'GUSKY-SHARP, KATHLEEN NONE', 'CA', '954253373',\n",
       "        'Contractor', '7078947409', 'CLOVERDALE', '171W00000X'],\n",
       "       ['1', 'TARTLER, ADRIAN LASZLO', 'KS', '672083714', 'Internist',\n",
       "        '3169460990', 'WICHITA', '111NI0900X'],\n",
       "       ['2', 'MONIKA RUKUS, INC.', 'MD', '208156734', 'Mental Health',\n",
       "        '3019869999', 'CHEVY CHASE', '101YM0800X']], dtype=object)"
      ]
     },
     "execution_count": 49,
     "metadata": {},
     "output_type": "execute_result"
    }
   ],
   "source": [
    "X = df[['ENTITY_TYPE_CODE','PROVIDERNAME', 'PROV_B_M_A_STATE_NAME', 'PROV_B_M_A_POSTAL_CODE', 'SPECDESC','PROV_B_P_B_P_LOC_ADD_TEL_NUM','PROV_B_M_A_CITY_NAME','PRIMARY_TAXONOMY']].values\n",
    "X[0:3]\n"
   ]
  },
  {
   "cell_type": "code",
   "execution_count": 50,
   "metadata": {},
   "outputs": [],
   "source": [
    "from sklearn import preprocessing\n",
    "\n",
    "le_PROVIDERNAME = preprocessing.LabelEncoder()\n",
    "le_PROVIDERNAME.fit(np.unique(df[\"PROVIDERNAME\"]))\n",
    "X[:,1] = le_PROVIDERNAME.transform(X[:,1]) \n",
    "\n",
    "le_STATE_NAME = preprocessing.LabelEncoder()\n",
    "le_STATE_NAME.fit(np.unique(df[\"PROV_B_M_A_STATE_NAME\"]))\n",
    "X[:,2] = le_STATE_NAME.transform(X[:,2]) \n",
    "\n",
    "le_SPECDESC = preprocessing.LabelEncoder()\n",
    "le_SPECDESC.fit(np.unique(df[\"SPECDESC\"]))\n",
    "X[:,4] = le_SPECDESC.transform(X[:,4]) \n",
    "\n",
    "le_CITY_NAME = preprocessing.LabelEncoder()\n",
    "le_CITY_NAME.fit(np.unique(df[\"PROV_B_M_A_CITY_NAME\"]))\n",
    "X[:,6] = le_CITY_NAME.transform(X[:,6]) \n",
    "\n",
    "\n",
    "le_PRIMARY_TAXONOMY = preprocessing.LabelEncoder()\n",
    "le_PRIMARY_TAXONOMY.fit(np.unique(df[\"PRIMARY_TAXONOMY\"]))\n",
    "X[:,7] = le_PRIMARY_TAXONOMY.transform(X[:,7]) \n",
    "\n",
    " \n",
    "\n",
    "\n",
    "\n",
    "\n"
   ]
  },
  {
   "cell_type": "code",
   "execution_count": 51,
   "metadata": {},
   "outputs": [
    {
     "name": "stderr",
     "output_type": "stream",
     "text": [
      "C:\\ProgramData\\Anaconda3\\lib\\site-packages\\sklearn\\utils\\validation.py:590: DataConversionWarning: Data with input dtype object was converted to float64 by StandardScaler.\n",
      "  warnings.warn(msg, DataConversionWarning)\n"
     ]
    },
    {
     "data": {
      "text/plain": [
       "array([[ 0.10302903, -0.00352539, -0.70329987,  1.48296908, -0.63987268,\n",
       "         0.6372938 , -1.0021102 , -0.09560694],\n",
       "       [ 0.10302903,  1.49300208,  0.16521153,  0.64968225,  0.0326075 ,\n",
       "        -1.0434466 ,  1.69004396, -0.88040258],\n",
       "       [ 1.75343746,  0.6549467 ,  0.49090331, -0.7203596 ,  0.14468753,\n",
       "        -1.10775777, -1.14380253, -1.44097089],\n",
       "       [ 1.75343746,  0.23591901,  0.38233939,  0.75809889, -0.75195271,\n",
       "        -1.43748397, -1.49803334,  1.586098  ],\n",
       "       [ 0.10302903,  0.77466889, -0.05191632,  0.44189432,  1.04132776,\n",
       "         0.30598301,  0.83989001,  0.80130236]])"
      ]
     },
     "execution_count": 51,
     "metadata": {},
     "output_type": "execute_result"
    }
   ],
   "source": [
    "\n",
    "X = preprocessing.StandardScaler().fit(X).transform(X.astype(float))\n",
    "X[0:5]"
   ]
  },
  {
   "cell_type": "code",
   "execution_count": 52,
   "metadata": {},
   "outputs": [],
   "source": [
    "y = df['NPI'].values"
   ]
  },
  {
   "cell_type": "code",
   "execution_count": 53,
   "metadata": {},
   "outputs": [
    {
     "name": "stdout",
     "output_type": "stream",
     "text": [
      "Train set: (2716, 8) (2716,)\n",
      "Test set: (680, 8) (680,)\n"
     ]
    }
   ],
   "source": [
    "from sklearn.model_selection import train_test_split\n",
    "X_train, X_test, y_train, y_test = train_test_split( X, y, test_size=0.2, random_state=4)\n",
    "print ('Train set:', X_train.shape,  y_train.shape)\n",
    "print ('Test set:', X_test.shape,  y_test.shape)"
   ]
  },
  {
   "cell_type": "code",
   "execution_count": 54,
   "metadata": {},
   "outputs": [],
   "source": [
    "from sklearn.neighbors import KNeighborsClassifier"
   ]
  },
  {
   "cell_type": "code",
   "execution_count": 55,
   "metadata": {},
   "outputs": [
    {
     "data": {
      "text/plain": [
       "KNeighborsClassifier(algorithm='auto', leaf_size=30, metric='minkowski',\n",
       "           metric_params=None, n_jobs=None, n_neighbors=4, p=2,\n",
       "           weights='uniform')"
      ]
     },
     "execution_count": 55,
     "metadata": {},
     "output_type": "execute_result"
    }
   ],
   "source": [
    "k = 4#Train Model and Predict  \n",
    "neigh = KNeighborsClassifier(n_neighbors = k).fit(X_train,y_train)\n",
    "neigh"
   ]
  },
  {
   "cell_type": "code",
   "execution_count": 56,
   "metadata": {},
   "outputs": [
    {
     "data": {
      "text/plain": [
       "array(['1104991728', '1760556526', '1760556526', '1205901824',\n",
       "       '1518031368'], dtype=object)"
      ]
     },
     "execution_count": 56,
     "metadata": {},
     "output_type": "execute_result"
    }
   ],
   "source": [
    "yhat = neigh.predict(X_test)\n",
    "yhat[0:5]"
   ]
  },
  {
   "cell_type": "code",
   "execution_count": 57,
   "metadata": {},
   "outputs": [
    {
     "name": "stdout",
     "output_type": "stream",
     "text": [
      "Train set Accuracy:  0.9959499263622975\n",
      "Test set Accuracy:  0.9808823529411764\n"
     ]
    }
   ],
   "source": [
    "from sklearn import metrics\n",
    "print(\"Train set Accuracy: \", metrics.accuracy_score(y_train, neigh.predict(X_train)))\n",
    "print(\"Test set Accuracy: \", metrics.accuracy_score(y_test, yhat))"
   ]
  },
  {
   "cell_type": "code",
   "execution_count": 58,
   "metadata": {},
   "outputs": [],
   "source": [
    "input = pd.read_csv(\"test1.csv\", delimiter=\",\")"
   ]
  },
  {
   "cell_type": "code",
   "execution_count": 59,
   "metadata": {},
   "outputs": [
    {
     "data": {
      "text/html": [
       "<div>\n",
       "<style scoped>\n",
       "    .dataframe tbody tr th:only-of-type {\n",
       "        vertical-align: middle;\n",
       "    }\n",
       "\n",
       "    .dataframe tbody tr th {\n",
       "        vertical-align: top;\n",
       "    }\n",
       "\n",
       "    .dataframe thead th {\n",
       "        text-align: right;\n",
       "    }\n",
       "</style>\n",
       "<table border=\"1\" class=\"dataframe\">\n",
       "  <thead>\n",
       "    <tr style=\"text-align: right;\">\n",
       "      <th></th>\n",
       "      <th>NPI</th>\n",
       "      <th>PROVIDERNAME</th>\n",
       "      <th>ENTITY_TYPE_CODE</th>\n",
       "      <th>P_O_N_LEGAL_BUSINESS_NAME</th>\n",
       "      <th>P_F_L_B_M_ADDRESS</th>\n",
       "      <th>PROV_B_M_A_CITY_NAME</th>\n",
       "      <th>PROV_B_M_A_STATE_NAME</th>\n",
       "      <th>PROV_B_M_A_POSTAL_CODE</th>\n",
       "      <th>PROV_B_M_A_CNT_CODE_OUT_US</th>\n",
       "      <th>PROV_B_M_A_TELEPHONE_NUMBER</th>\n",
       "      <th>...</th>\n",
       "      <th>AUTH_OFF_FRST_NAME</th>\n",
       "      <th>AUTH_OFF_MIDDLE_NAME</th>\n",
       "      <th>AUTH_OFF_TITLE_OR_POSITION</th>\n",
       "      <th>AUTH_OFF_TELEPHONE_NUMBER</th>\n",
       "      <th>H_P_T_CODE_1</th>\n",
       "      <th>PROV_LIC_NUM_1</th>\n",
       "      <th>PROV_LIC_NUM_STATE_CODE_1</th>\n",
       "      <th>H_P_P_T_SWITCH_1</th>\n",
       "      <th>PRIMARY_TAXONOMY</th>\n",
       "      <th>SPECDESC</th>\n",
       "    </tr>\n",
       "  </thead>\n",
       "  <tbody>\n",
       "    <tr>\n",
       "      <th>0</th>\n",
       "      <td>NaN</td>\n",
       "      <td>GUSKY-SHARP, KATHLEEN NONE</td>\n",
       "      <td>1</td>\n",
       "      <td>NaN</td>\n",
       "      <td>105 VISTA VIEW DR</td>\n",
       "      <td>CLOVERDALE</td>\n",
       "      <td>CA</td>\n",
       "      <td>954253373</td>\n",
       "      <td>US</td>\n",
       "      <td>7078947409</td>\n",
       "      <td>...</td>\n",
       "      <td>NaN</td>\n",
       "      <td>NaN</td>\n",
       "      <td>NaN</td>\n",
       "      <td>NaN</td>\n",
       "      <td>171W00000X</td>\n",
       "      <td>CAOT#12</td>\n",
       "      <td>CA</td>\n",
       "      <td>Y</td>\n",
       "      <td>171W00000X</td>\n",
       "      <td>Contractor</td>\n",
       "    </tr>\n",
       "    <tr>\n",
       "      <th>1</th>\n",
       "      <td>NaN</td>\n",
       "      <td>OLANO, ANNA A</td>\n",
       "      <td>1</td>\n",
       "      <td>NaN</td>\n",
       "      <td>100 E IRVING PARK RD</td>\n",
       "      <td>ROSELLE</td>\n",
       "      <td>IL</td>\n",
       "      <td>601722048</td>\n",
       "      <td>US</td>\n",
       "      <td>6304390009</td>\n",
       "      <td>...</td>\n",
       "      <td>NaN</td>\n",
       "      <td>NaN</td>\n",
       "      <td>NaN</td>\n",
       "      <td>NaN</td>\n",
       "      <td>225100000X</td>\n",
       "      <td>070-008093</td>\n",
       "      <td>IL</td>\n",
       "      <td>Y</td>\n",
       "      <td>225100000X</td>\n",
       "      <td>Physical Therapist</td>\n",
       "    </tr>\n",
       "    <tr>\n",
       "      <th>2</th>\n",
       "      <td>NaN</td>\n",
       "      <td>MOSS, PAUL R</td>\n",
       "      <td>1</td>\n",
       "      <td>NaN</td>\n",
       "      <td>1932 SW 3RD ST</td>\n",
       "      <td>ANKENY</td>\n",
       "      <td>IA</td>\n",
       "      <td>500232400</td>\n",
       "      <td>US</td>\n",
       "      <td>5159649114</td>\n",
       "      <td>...</td>\n",
       "      <td>NaN</td>\n",
       "      <td>NaN</td>\n",
       "      <td>NaN</td>\n",
       "      <td>NaN</td>\n",
       "      <td>111N00000X</td>\n",
       "      <td>6709</td>\n",
       "      <td>IA</td>\n",
       "      <td>Y</td>\n",
       "      <td>111N00000X</td>\n",
       "      <td>Chiropractor</td>\n",
       "    </tr>\n",
       "    <tr>\n",
       "      <th>3</th>\n",
       "      <td>NaN</td>\n",
       "      <td>AUSTIN, REINALDO BASILIO</td>\n",
       "      <td>1</td>\n",
       "      <td>NaN</td>\n",
       "      <td>451 CLARKSON AVE</td>\n",
       "      <td>BROOKLYN</td>\n",
       "      <td>NY</td>\n",
       "      <td>112032057</td>\n",
       "      <td>US</td>\n",
       "      <td>7182454600</td>\n",
       "      <td>...</td>\n",
       "      <td>NaN</td>\n",
       "      <td>NaN</td>\n",
       "      <td>NaN</td>\n",
       "      <td>NaN</td>\n",
       "      <td>174400000X</td>\n",
       "      <td>177598</td>\n",
       "      <td>NY</td>\n",
       "      <td>Y</td>\n",
       "      <td>174400000X</td>\n",
       "      <td>Specialist</td>\n",
       "    </tr>\n",
       "    <tr>\n",
       "      <th>4</th>\n",
       "      <td>NaN</td>\n",
       "      <td>CASCADE MEDICAL TESTING LAB, INC.</td>\n",
       "      <td>2</td>\n",
       "      <td>CASCADE MEDICAL TESTING LAB, INC.</td>\n",
       "      <td>PO BOX 88247</td>\n",
       "      <td>KENTWOOD</td>\n",
       "      <td>MI</td>\n",
       "      <td>495180247</td>\n",
       "      <td>US</td>\n",
       "      <td>6167340335</td>\n",
       "      <td>...</td>\n",
       "      <td>ROBERT</td>\n",
       "      <td>NaN</td>\n",
       "      <td>PRESIDENT</td>\n",
       "      <td>6.169566e+09</td>\n",
       "      <td>291U00000X</td>\n",
       "      <td>NaN</td>\n",
       "      <td>NaN</td>\n",
       "      <td>Y</td>\n",
       "      <td>291U00000X</td>\n",
       "      <td>Clinical Medical Laboratory</td>\n",
       "    </tr>\n",
       "  </tbody>\n",
       "</table>\n",
       "<p>5 rows × 29 columns</p>\n",
       "</div>"
      ],
      "text/plain": [
       "   NPI                       PROVIDERNAME  ENTITY_TYPE_CODE  \\\n",
       "0  NaN         GUSKY-SHARP, KATHLEEN NONE                 1   \n",
       "1  NaN                      OLANO, ANNA A                 1   \n",
       "2  NaN                       MOSS, PAUL R                 1   \n",
       "3  NaN           AUSTIN, REINALDO BASILIO                 1   \n",
       "4  NaN  CASCADE MEDICAL TESTING LAB, INC.                 2   \n",
       "\n",
       "           P_O_N_LEGAL_BUSINESS_NAME     P_F_L_B_M_ADDRESS  \\\n",
       "0                                NaN     105 VISTA VIEW DR   \n",
       "1                                NaN  100 E IRVING PARK RD   \n",
       "2                                NaN        1932 SW 3RD ST   \n",
       "3                                NaN      451 CLARKSON AVE   \n",
       "4  CASCADE MEDICAL TESTING LAB, INC.          PO BOX 88247   \n",
       "\n",
       "  PROV_B_M_A_CITY_NAME PROV_B_M_A_STATE_NAME  PROV_B_M_A_POSTAL_CODE  \\\n",
       "0           CLOVERDALE                    CA               954253373   \n",
       "1              ROSELLE                    IL               601722048   \n",
       "2               ANKENY                    IA               500232400   \n",
       "3             BROOKLYN                    NY               112032057   \n",
       "4             KENTWOOD                    MI               495180247   \n",
       "\n",
       "  PROV_B_M_A_CNT_CODE_OUT_US  PROV_B_M_A_TELEPHONE_NUMBER  \\\n",
       "0                         US                   7078947409   \n",
       "1                         US                   6304390009   \n",
       "2                         US                   5159649114   \n",
       "3                         US                   7182454600   \n",
       "4                         US                   6167340335   \n",
       "\n",
       "              ...              AUTH_OFF_FRST_NAME AUTH_OFF_MIDDLE_NAME  \\\n",
       "0             ...                             NaN                  NaN   \n",
       "1             ...                             NaN                  NaN   \n",
       "2             ...                             NaN                  NaN   \n",
       "3             ...                             NaN                  NaN   \n",
       "4             ...                          ROBERT                  NaN   \n",
       "\n",
       "  AUTH_OFF_TITLE_OR_POSITION  AUTH_OFF_TELEPHONE_NUMBER H_P_T_CODE_1  \\\n",
       "0                        NaN                        NaN   171W00000X   \n",
       "1                        NaN                        NaN   225100000X   \n",
       "2                        NaN                        NaN   111N00000X   \n",
       "3                        NaN                        NaN   174400000X   \n",
       "4                  PRESIDENT               6.169566e+09   291U00000X   \n",
       "\n",
       "   PROV_LIC_NUM_1 PROV_LIC_NUM_STATE_CODE_1 H_P_P_T_SWITCH_1 PRIMARY_TAXONOMY  \\\n",
       "0         CAOT#12                        CA                Y       171W00000X   \n",
       "1      070-008093                        IL                Y       225100000X   \n",
       "2            6709                        IA                Y       111N00000X   \n",
       "3          177598                        NY                Y       174400000X   \n",
       "4             NaN                       NaN                Y       291U00000X   \n",
       "\n",
       "                      SPECDESC  \n",
       "0                   Contractor  \n",
       "1           Physical Therapist  \n",
       "2                 Chiropractor  \n",
       "3                   Specialist  \n",
       "4  Clinical Medical Laboratory  \n",
       "\n",
       "[5 rows x 29 columns]"
      ]
     },
     "execution_count": 59,
     "metadata": {},
     "output_type": "execute_result"
    }
   ],
   "source": [
    "input"
   ]
  },
  {
   "cell_type": "code",
   "execution_count": 60,
   "metadata": {},
   "outputs": [
    {
     "data": {
      "text/plain": [
       "array([[ 0.10302903, -0.00352539, -0.70329987,  1.48296908, -0.63987268,\n",
       "         0.6372938 , -1.0021102 , -0.09560694],\n",
       "       [ 0.10302903,  1.49300208,  0.16521153,  0.64968225,  0.0326075 ,\n",
       "        -1.0434466 ,  1.69004396, -0.88040258],\n",
       "       [ 1.75343746,  0.6549467 ,  0.49090331, -0.7203596 ,  0.14468753,\n",
       "        -1.10775777, -1.14380253, -1.44097089]])"
      ]
     },
     "execution_count": 60,
     "metadata": {},
     "output_type": "execute_result"
    }
   ],
   "source": [
    "\n",
    "X_1 = input[['ENTITY_TYPE_CODE','PROVIDERNAME', 'PROV_B_M_A_STATE_NAME', 'PROV_B_M_A_POSTAL_CODE', 'SPECDESC','PROV_B_P_B_P_LOC_ADD_TEL_NUM','PROV_B_M_A_CITY_NAME','PRIMARY_TAXONOMY']].values\n",
    "X[0:3]\n"
   ]
  },
  {
   "cell_type": "code",
   "execution_count": 61,
   "metadata": {},
   "outputs": [],
   "source": [
    "from sklearn import preprocessing\n",
    "\n",
    "le_PROVIDERNAME = preprocessing.LabelEncoder()\n",
    "le_PROVIDERNAME.fit(np.unique(df[\"PROVIDERNAME\"]))\n",
    "X_1[:,1] = le_PROVIDERNAME.transform(X_1[:,1]) \n",
    "\n",
    "le_STATE_NAME = preprocessing.LabelEncoder()\n",
    "le_STATE_NAME.fit(np.unique(df[\"PROV_B_M_A_STATE_NAME\"]))\n",
    "X_1[:,2] = le_STATE_NAME.transform(X_1[:,2]) \n",
    "\n",
    "le_SPECDESC = preprocessing.LabelEncoder()\n",
    "le_SPECDESC.fit(np.unique(df[\"SPECDESC\"]))\n",
    "X_1[:,4] = le_SPECDESC.transform(X_1[:,4]) \n",
    "\n",
    "le_CITY_NAME = preprocessing.LabelEncoder()\n",
    "le_CITY_NAME.fit(np.unique(df[\"PROV_B_M_A_CITY_NAME\"]))\n",
    "X_1[:,6] = le_CITY_NAME.transform(X_1[:,6]) \n",
    "\n",
    "\n",
    "le_PRIMARY_TAXONOMY = preprocessing.LabelEncoder()\n",
    "le_PRIMARY_TAXONOMY.fit(np.unique(df[\"PRIMARY_TAXONOMY\"]))\n",
    "X_1[:,7] = le_PRIMARY_TAXONOMY.transform(X_1[:,7]) \n",
    "\n",
    " "
   ]
  },
  {
   "cell_type": "code",
   "execution_count": 62,
   "metadata": {},
   "outputs": [
    {
     "data": {
      "text/plain": [
       "5"
      ]
     },
     "execution_count": 62,
     "metadata": {},
     "output_type": "execute_result"
    }
   ],
   "source": [
    "len(X_1)"
   ]
  },
  {
   "cell_type": "code",
   "execution_count": 63,
   "metadata": {},
   "outputs": [],
   "source": [
    "yhat = neigh.predict(X_1)"
   ]
  },
  {
   "cell_type": "code",
   "execution_count": 64,
   "metadata": {},
   "outputs": [
    {
     "data": {
      "text/plain": [
       "array(['1144600479', '1144600479', '1144600479', '1144600479',\n",
       "       '1144600479'], dtype=object)"
      ]
     },
     "execution_count": 64,
     "metadata": {},
     "output_type": "execute_result"
    }
   ],
   "source": [
    "yhat"
   ]
  },
  {
   "cell_type": "code",
   "execution_count": null,
   "metadata": {},
   "outputs": [],
   "source": []
  },
  {
   "cell_type": "code",
   "execution_count": null,
   "metadata": {},
   "outputs": [],
   "source": []
  }
 ],
 "metadata": {
  "kernelspec": {
   "display_name": "Python 3",
   "language": "python",
   "name": "python3"
  },
  "language_info": {
   "codemirror_mode": {
    "name": "ipython",
    "version": 3
   },
   "file_extension": ".py",
   "mimetype": "text/x-python",
   "name": "python",
   "nbconvert_exporter": "python",
   "pygments_lexer": "ipython3",
   "version": "3.6.5"
  }
 },
 "nbformat": 4,
 "nbformat_minor": 2
}
