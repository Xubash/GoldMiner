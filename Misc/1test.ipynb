{
 "cells": [
  {
   "cell_type": "code",
   "execution_count": 26,
   "metadata": {},
   "outputs": [],
   "source": [
    "import numpy as np \n",
    "import pandas as pd\n",
    "import sys\n",
    "from sklearn.tree import DecisionTreeClassifier"
   ]
  },
  {
   "cell_type": "code",
   "execution_count": 7,
   "metadata": {},
   "outputs": [
    {
     "data": {
      "text/html": [
       "<div>\n",
       "<style scoped>\n",
       "    .dataframe tbody tr th:only-of-type {\n",
       "        vertical-align: middle;\n",
       "    }\n",
       "\n",
       "    .dataframe tbody tr th {\n",
       "        vertical-align: top;\n",
       "    }\n",
       "\n",
       "    .dataframe thead th {\n",
       "        text-align: right;\n",
       "    }\n",
       "</style>\n",
       "<table border=\"1\" class=\"dataframe\">\n",
       "  <thead>\n",
       "    <tr style=\"text-align: right;\">\n",
       "      <th></th>\n",
       "      <th>NPI</th>\n",
       "      <th>PROVIDERNAME</th>\n",
       "      <th>ENTITY_TYPE_CODE</th>\n",
       "      <th>P_O_N_LEGAL_BUSINESS_NAME</th>\n",
       "      <th>P_F_L_B_M_ADDRESS</th>\n",
       "      <th>PROV_B_M_A_CITY_NAME</th>\n",
       "      <th>PROV_B_M_A_STATE_NAME</th>\n",
       "      <th>PROV_B_M_A_POSTAL_CODE</th>\n",
       "      <th>PROV_B_M_A_CNT_CODE_OUT_US</th>\n",
       "      <th>PROV_B_M_A_TELEPHONE_NUMBER</th>\n",
       "      <th>...</th>\n",
       "      <th>AUTH_OFF_FRST_NAME</th>\n",
       "      <th>AUTH_OFF_MIDDLE_NAME</th>\n",
       "      <th>AUTH_OFF_TITLE_OR_POSITION</th>\n",
       "      <th>AUTH_OFF_TELEPHONE_NUMBER</th>\n",
       "      <th>H_P_T_CODE_1</th>\n",
       "      <th>PROV_LIC_NUM_1</th>\n",
       "      <th>PROV_LIC_NUM_STATE_CODE_1</th>\n",
       "      <th>H_P_P_T_SWITCH_1</th>\n",
       "      <th>PRIMARY_TAXONOMY</th>\n",
       "      <th>SPECDESC</th>\n",
       "    </tr>\n",
       "  </thead>\n",
       "  <tbody>\n",
       "    <tr>\n",
       "      <th>0</th>\n",
       "      <td>NaN</td>\n",
       "      <td>GUSKY-SHARP, KATHLEEN NONE</td>\n",
       "      <td>1</td>\n",
       "      <td>NaN</td>\n",
       "      <td>105 VISTA VIEW DR</td>\n",
       "      <td>CLOVERDALE</td>\n",
       "      <td>CA</td>\n",
       "      <td>954253373</td>\n",
       "      <td>US</td>\n",
       "      <td>7.078947e+09</td>\n",
       "      <td>...</td>\n",
       "      <td>NaN</td>\n",
       "      <td>NaN</td>\n",
       "      <td>NaN</td>\n",
       "      <td>NaN</td>\n",
       "      <td>171W00000X</td>\n",
       "      <td>CAOT#12</td>\n",
       "      <td>CA</td>\n",
       "      <td>Y</td>\n",
       "      <td>171W00000X</td>\n",
       "      <td>Contractor</td>\n",
       "    </tr>\n",
       "    <tr>\n",
       "      <th>1</th>\n",
       "      <td>NaN</td>\n",
       "      <td>TARTLER, ADRIAN LASZLO</td>\n",
       "      <td>1</td>\n",
       "      <td>NaN</td>\n",
       "      <td>311 N QUENTIN ST</td>\n",
       "      <td>WICHITA</td>\n",
       "      <td>KS</td>\n",
       "      <td>672083714</td>\n",
       "      <td>US</td>\n",
       "      <td>3.166509e+09</td>\n",
       "      <td>...</td>\n",
       "      <td>NaN</td>\n",
       "      <td>NaN</td>\n",
       "      <td>NaN</td>\n",
       "      <td>NaN</td>\n",
       "      <td>111NI0900X</td>\n",
       "      <td>T-00986</td>\n",
       "      <td>KS</td>\n",
       "      <td>Y</td>\n",
       "      <td>111NI0900X</td>\n",
       "      <td>Internist</td>\n",
       "    </tr>\n",
       "    <tr>\n",
       "      <th>2</th>\n",
       "      <td>NaN</td>\n",
       "      <td>MONIKA RUKUS, INC.</td>\n",
       "      <td>2</td>\n",
       "      <td>MONIKA RUKUS, INC.</td>\n",
       "      <td>8901 CONNECTICUT AVE</td>\n",
       "      <td>CHEVY CHASE</td>\n",
       "      <td>MD</td>\n",
       "      <td>208156734</td>\n",
       "      <td>US</td>\n",
       "      <td>3.019870e+09</td>\n",
       "      <td>...</td>\n",
       "      <td>MONIKA</td>\n",
       "      <td>L.</td>\n",
       "      <td>OWNER</td>\n",
       "      <td>3.019870e+09</td>\n",
       "      <td>101YM0800X</td>\n",
       "      <td>08641</td>\n",
       "      <td>MD</td>\n",
       "      <td>Y</td>\n",
       "      <td>101YM0800X</td>\n",
       "      <td>Mental Health</td>\n",
       "    </tr>\n",
       "    <tr>\n",
       "      <th>3</th>\n",
       "      <td>NaN</td>\n",
       "      <td>JAFORD ENTERPRISES</td>\n",
       "      <td>2</td>\n",
       "      <td>JAFORD ENTERPRISES</td>\n",
       "      <td>PO BOX 86028</td>\n",
       "      <td>BATON ROUGE</td>\n",
       "      <td>LA</td>\n",
       "      <td>708796028</td>\n",
       "      <td>US</td>\n",
       "      <td>2.252910e+09</td>\n",
       "      <td>...</td>\n",
       "      <td>SHEVELLE</td>\n",
       "      <td>LIESA</td>\n",
       "      <td>PIC</td>\n",
       "      <td>2.252910e+09</td>\n",
       "      <td>3336C0003X</td>\n",
       "      <td>4058</td>\n",
       "      <td>LA</td>\n",
       "      <td>Y</td>\n",
       "      <td>3336C0003X</td>\n",
       "      <td>Community/Retail Pharmacy</td>\n",
       "    </tr>\n",
       "    <tr>\n",
       "      <th>4</th>\n",
       "      <td>NaN</td>\n",
       "      <td>OLANO, ANNA A</td>\n",
       "      <td>1</td>\n",
       "      <td>NaN</td>\n",
       "      <td>100 E IRVING PARK RD</td>\n",
       "      <td>ROSELLE</td>\n",
       "      <td>IL</td>\n",
       "      <td>601722048</td>\n",
       "      <td>US</td>\n",
       "      <td>6.304390e+09</td>\n",
       "      <td>...</td>\n",
       "      <td>NaN</td>\n",
       "      <td>NaN</td>\n",
       "      <td>NaN</td>\n",
       "      <td>NaN</td>\n",
       "      <td>225100000X</td>\n",
       "      <td>070-008093</td>\n",
       "      <td>IL</td>\n",
       "      <td>Y</td>\n",
       "      <td>225100000X</td>\n",
       "      <td>Physical Therapist</td>\n",
       "    </tr>\n",
       "    <tr>\n",
       "      <th>5</th>\n",
       "      <td>NaN</td>\n",
       "      <td>DEPENDABLE CARE TRANSPORTATION, INC.</td>\n",
       "      <td>2</td>\n",
       "      <td>DEPENDABLE CARE TRANSPORTATION, INC.</td>\n",
       "      <td>639 N FAIRFAX AVE FL 2</td>\n",
       "      <td>LOS ANGELES</td>\n",
       "      <td>CA</td>\n",
       "      <td>900361714</td>\n",
       "      <td>US</td>\n",
       "      <td>3.238783e+09</td>\n",
       "      <td>...</td>\n",
       "      <td>YEFIM</td>\n",
       "      <td>NaN</td>\n",
       "      <td>PRESIDENT</td>\n",
       "      <td>3.236173e+09</td>\n",
       "      <td>343900000X</td>\n",
       "      <td>NaN</td>\n",
       "      <td>NaN</td>\n",
       "      <td>Y</td>\n",
       "      <td>343900000X</td>\n",
       "      <td>Non-emergency Medical Transport (VAN)</td>\n",
       "    </tr>\n",
       "    <tr>\n",
       "      <th>6</th>\n",
       "      <td>NaN</td>\n",
       "      <td>YOUNG, JOSEPHINE</td>\n",
       "      <td>1</td>\n",
       "      <td>NaN</td>\n",
       "      <td>14711 NE 29TH PL</td>\n",
       "      <td>BELLEVUE</td>\n",
       "      <td>WA</td>\n",
       "      <td>980077666</td>\n",
       "      <td>US</td>\n",
       "      <td>NaN</td>\n",
       "      <td>...</td>\n",
       "      <td>NaN</td>\n",
       "      <td>NaN</td>\n",
       "      <td>NaN</td>\n",
       "      <td>NaN</td>\n",
       "      <td>208000000X</td>\n",
       "      <td>MD00035709</td>\n",
       "      <td>WA</td>\n",
       "      <td>Y</td>\n",
       "      <td>208000000X</td>\n",
       "      <td>Pediatrics</td>\n",
       "    </tr>\n",
       "    <tr>\n",
       "      <th>7</th>\n",
       "      <td>NaN</td>\n",
       "      <td>GUSTAFSON, HEATHER LYNN</td>\n",
       "      <td>1</td>\n",
       "      <td>NaN</td>\n",
       "      <td>1400 JACKSON ST</td>\n",
       "      <td>DENVER</td>\n",
       "      <td>CO</td>\n",
       "      <td>802062761</td>\n",
       "      <td>US</td>\n",
       "      <td>3.033884e+09</td>\n",
       "      <td>...</td>\n",
       "      <td>NaN</td>\n",
       "      <td>NaN</td>\n",
       "      <td>NaN</td>\n",
       "      <td>NaN</td>\n",
       "      <td>235Z00000X</td>\n",
       "      <td>0011</td>\n",
       "      <td>CO</td>\n",
       "      <td>Y</td>\n",
       "      <td>235Z00000X</td>\n",
       "      <td>Speech-Language Pathologist</td>\n",
       "    </tr>\n",
       "  </tbody>\n",
       "</table>\n",
       "<p>8 rows × 29 columns</p>\n",
       "</div>"
      ],
      "text/plain": [
       "   NPI                          PROVIDERNAME  ENTITY_TYPE_CODE  \\\n",
       "0  NaN            GUSKY-SHARP, KATHLEEN NONE                 1   \n",
       "1  NaN                TARTLER, ADRIAN LASZLO                 1   \n",
       "2  NaN                    MONIKA RUKUS, INC.                 2   \n",
       "3  NaN                    JAFORD ENTERPRISES                 2   \n",
       "4  NaN                         OLANO, ANNA A                 1   \n",
       "5  NaN  DEPENDABLE CARE TRANSPORTATION, INC.                 2   \n",
       "6  NaN                      YOUNG, JOSEPHINE                 1   \n",
       "7  NaN               GUSTAFSON, HEATHER LYNN                 1   \n",
       "\n",
       "              P_O_N_LEGAL_BUSINESS_NAME       P_F_L_B_M_ADDRESS  \\\n",
       "0                                   NaN       105 VISTA VIEW DR   \n",
       "1                                   NaN        311 N QUENTIN ST   \n",
       "2                    MONIKA RUKUS, INC.    8901 CONNECTICUT AVE   \n",
       "3                    JAFORD ENTERPRISES            PO BOX 86028   \n",
       "4                                   NaN    100 E IRVING PARK RD   \n",
       "5  DEPENDABLE CARE TRANSPORTATION, INC.  639 N FAIRFAX AVE FL 2   \n",
       "6                                   NaN        14711 NE 29TH PL   \n",
       "7                                   NaN         1400 JACKSON ST   \n",
       "\n",
       "  PROV_B_M_A_CITY_NAME PROV_B_M_A_STATE_NAME  PROV_B_M_A_POSTAL_CODE  \\\n",
       "0           CLOVERDALE                    CA               954253373   \n",
       "1              WICHITA                    KS               672083714   \n",
       "2          CHEVY CHASE                    MD               208156734   \n",
       "3          BATON ROUGE                    LA               708796028   \n",
       "4              ROSELLE                    IL               601722048   \n",
       "5          LOS ANGELES                    CA               900361714   \n",
       "6             BELLEVUE                    WA               980077666   \n",
       "7               DENVER                    CO               802062761   \n",
       "\n",
       "  PROV_B_M_A_CNT_CODE_OUT_US  PROV_B_M_A_TELEPHONE_NUMBER  \\\n",
       "0                         US                 7.078947e+09   \n",
       "1                         US                 3.166509e+09   \n",
       "2                         US                 3.019870e+09   \n",
       "3                         US                 2.252910e+09   \n",
       "4                         US                 6.304390e+09   \n",
       "5                         US                 3.238783e+09   \n",
       "6                         US                          NaN   \n",
       "7                         US                 3.033884e+09   \n",
       "\n",
       "                   ...                   AUTH_OFF_FRST_NAME  \\\n",
       "0                  ...                                  NaN   \n",
       "1                  ...                                  NaN   \n",
       "2                  ...                               MONIKA   \n",
       "3                  ...                             SHEVELLE   \n",
       "4                  ...                                  NaN   \n",
       "5                  ...                                YEFIM   \n",
       "6                  ...                                  NaN   \n",
       "7                  ...                                  NaN   \n",
       "\n",
       "  AUTH_OFF_MIDDLE_NAME AUTH_OFF_TITLE_OR_POSITION  AUTH_OFF_TELEPHONE_NUMBER  \\\n",
       "0                  NaN                        NaN                        NaN   \n",
       "1                  NaN                        NaN                        NaN   \n",
       "2                   L.                      OWNER               3.019870e+09   \n",
       "3                LIESA                        PIC               2.252910e+09   \n",
       "4                  NaN                        NaN                        NaN   \n",
       "5                  NaN                  PRESIDENT               3.236173e+09   \n",
       "6                  NaN                        NaN                        NaN   \n",
       "7                  NaN                        NaN                        NaN   \n",
       "\n",
       "  H_P_T_CODE_1  PROV_LIC_NUM_1 PROV_LIC_NUM_STATE_CODE_1 H_P_P_T_SWITCH_1  \\\n",
       "0   171W00000X         CAOT#12                        CA                Y   \n",
       "1   111NI0900X         T-00986                        KS                Y   \n",
       "2   101YM0800X           08641                        MD                Y   \n",
       "3   3336C0003X            4058                        LA                Y   \n",
       "4   225100000X      070-008093                        IL                Y   \n",
       "5   343900000X             NaN                       NaN                Y   \n",
       "6   208000000X      MD00035709                        WA                Y   \n",
       "7   235Z00000X            0011                        CO                Y   \n",
       "\n",
       "  PRIMARY_TAXONOMY                               SPECDESC  \n",
       "0       171W00000X                             Contractor  \n",
       "1       111NI0900X                              Internist  \n",
       "2       101YM0800X                          Mental Health  \n",
       "3       3336C0003X              Community/Retail Pharmacy  \n",
       "4       225100000X                     Physical Therapist  \n",
       "5       343900000X  Non-emergency Medical Transport (VAN)  \n",
       "6       208000000X                             Pediatrics  \n",
       "7       235Z00000X            Speech-Language Pathologist  \n",
       "\n",
       "[8 rows x 29 columns]"
      ]
     },
     "execution_count": 7,
     "metadata": {},
     "output_type": "execute_result"
    }
   ],
   "source": [
    "my_data = pd.read_csv(\"train.csv\", delimiter=\",\")\n",
    "my_data_1 = pd.read_csv(\"test.csv\", delimiter=\",\")\n",
    "my_data_1[0:8]\n",
    "\n"
   ]
  },
  {
   "cell_type": "code",
   "execution_count": 8,
   "metadata": {},
   "outputs": [],
   "source": [
    "my_data_1 = my_data_1[0:35]"
   ]
  },
  {
   "cell_type": "code",
   "execution_count": 9,
   "metadata": {},
   "outputs": [
    {
     "data": {
      "text/plain": [
       "array(['AZ', 'CA', 'CO', 'CT', 'FL', 'IA', 'IL', 'IN', 'KS', 'LA', 'MD',\n",
       "       'MI', 'MN', 'MO', 'NM', 'NV', 'NY', 'OH', 'PR', 'VT', 'WA', 'WI'],\n",
       "      dtype=object)"
      ]
     },
     "execution_count": 9,
     "metadata": {},
     "output_type": "execute_result"
    }
   ],
   "source": [
    "\n",
    "sys.getsizeof(my_data)/(1024*1024*1024)\n",
    "np.unique(my_data[\"PROV_B_M_A_STATE_NAME\"])\n",
    "np.unique(my_data_1[\"PROV_B_M_A_STATE_NAME\"])"
   ]
  },
  {
   "cell_type": "code",
   "execution_count": 10,
   "metadata": {},
   "outputs": [
    {
     "data": {
      "text/plain": [
       "array([[1, 'CA', 954253373, 'Contractor'],\n",
       "       [1, 'KS', 672083714, 'Internist'],\n",
       "       [2, 'MD', 208156734, 'Mental Health']], dtype=object)"
      ]
     },
     "execution_count": 10,
     "metadata": {},
     "output_type": "execute_result"
    }
   ],
   "source": [
    "X = my_data[['ENTITY_TYPE_CODE',  'PROV_B_M_A_STATE_NAME', 'PROV_B_M_A_POSTAL_CODE', 'SPECDESC']].values\n",
    "X_1 = my_data_1[['ENTITY_TYPE_CODE',  'PROV_B_M_A_STATE_NAME', 'PROV_B_M_A_POSTAL_CODE', 'SPECDESC']].values\n",
    "X[0:3]"
   ]
  },
  {
   "cell_type": "code",
   "execution_count": 11,
   "metadata": {},
   "outputs": [],
   "source": [
    "from sklearn import preprocessing\n",
    "le_STATE_NAME = preprocessing.LabelEncoder()\n",
    "le_STATE_NAME.fit(np.unique(my_data[\"PROV_B_M_A_STATE_NAME\"]))\n",
    "X[:,1] = le_STATE_NAME.transform(X[:,1]) \n",
    "\n",
    "le_SPECDESC = preprocessing.LabelEncoder()\n",
    "le_SPECDESC.fit(np.unique(my_data[\"SPECDESC\"]))\n",
    "X[:,3] = le_SPECDESC.transform(X[:,3]) \n",
    "\n",
    "le_STATE_NAME_1 = preprocessing.LabelEncoder()\n",
    "le_STATE_NAME_1.fit(np.unique(my_data_1[\"PROV_B_M_A_STATE_NAME\"]))\n",
    "X_1[:,1] = le_STATE_NAME_1.transform(X_1[:,1]) \n",
    "\n",
    "le_SPECDESC_1 = preprocessing.LabelEncoder()\n",
    "le_SPECDESC_1.fit(np.unique(my_data_1[\"SPECDESC\"]))\n",
    "X_1[:,3] = le_SPECDESC_1.transform(X_1[:,3]) \n",
    "\n",
    "\n"
   ]
  },
  {
   "cell_type": "code",
   "execution_count": 12,
   "metadata": {},
   "outputs": [
    {
     "data": {
      "text/plain": [
       "array([[1, 1, 954253373, 8],\n",
       "       [1, 9, 672083714, 14],\n",
       "       [2, 12, 208156734, 15],\n",
       "       [2, 11, 708796028, 7],\n",
       "       [1, 7, 601722048, 23],\n",
       "       [2, 1, 900361714, 17],\n",
       "       [1, 26, 980077666, 21],\n",
       "       [1, 2, 802062761, 29],\n",
       "       [1, 6, 500232400, 4],\n",
       "       [1, 18, 891092428, 21],\n",
       "       [1, 1, 943013339, 24],\n",
       "       [1, 5, 330093765, 13],\n",
       "       [1, 19, 112032057, 28],\n",
       "       [2, 15, 657082333, 19],\n",
       "       [1, 8, 473712124, 4],\n",
       "       [1, 0, 850204814, 4],\n",
       "       [2, 13, 495180247, 6],\n",
       "       [1, 3, 69062269, 12],\n",
       "       [1, 1, 926837450, 15],\n",
       "       [1, 5, 329605225, 20],\n",
       "       [1, 26, 983279796, 16],\n",
       "       [2, 1, 934584303, 3],\n",
       "       [1, 14, 56310, 0],\n",
       "       [1, 22, 9213630, 13],\n",
       "       [1, 19, 104653013, 21],\n",
       "       [1, 1, 931018498, 15],\n",
       "       [2, 7, 606172656, 9],\n",
       "       [1, 5, 320823228, 20],\n",
       "       [1, 20, 436143464, 23],\n",
       "       [2, 17, 871104186, 1],\n",
       "       [1, 27, 532243500, 28],\n",
       "       [1, 19, 115902025, 4],\n",
       "       [2, 25, 54465986, 2],\n",
       "       [1, 27, 537920001, 22],\n",
       "       [1, 7, 602011718, 21],\n",
       "       [1, 19, 132031652, 5],\n",
       "       [1, 7, 601722048, 23],\n",
       "       [1, 10, 410113775, 5],\n",
       "       [1, 5, 336152872, 11],\n",
       "       [1, 5, 335115911, 26],\n",
       "       [1, 23, 372043101, 13],\n",
       "       [1, 5, 327467403, 23],\n",
       "       [1, 14, 554413859, 5],\n",
       "       [2, 21, 152032348, 10],\n",
       "       [1, 16, 27858, 25],\n",
       "       [1, 24, 770821658, 20],\n",
       "       [1, 26, 981552713, 18],\n",
       "       [1, 14, 55350, 27],\n",
       "       [1, 4, 200072113, 18],\n",
       "       [1, 13, 486248407, 5]], dtype=object)"
      ]
     },
     "execution_count": 12,
     "metadata": {},
     "output_type": "execute_result"
    }
   ],
   "source": [
    "X[0:100]"
   ]
  },
  {
   "cell_type": "code",
   "execution_count": 13,
   "metadata": {},
   "outputs": [
    {
     "data": {
      "text/plain": [
       "0    1396819231\n",
       "1    1194890707\n",
       "2    1003981614\n",
       "3    1912072521\n",
       "4    1992870505\n",
       "Name: NPI, dtype: int64"
      ]
     },
     "execution_count": 13,
     "metadata": {},
     "output_type": "execute_result"
    }
   ],
   "source": [
    "y = my_data[\"NPI\"]\n",
    "y[0:5]\n",
    "\n"
   ]
  },
  {
   "cell_type": "code",
   "execution_count": 14,
   "metadata": {},
   "outputs": [],
   "source": [
    "from sklearn.model_selection import train_test_split\n"
   ]
  },
  {
   "cell_type": "code",
   "execution_count": 15,
   "metadata": {},
   "outputs": [
    {
     "data": {
      "text/plain": [
       "array([[1, 1, 931018498, 15],\n",
       "       [2, 13, 495180247, 6],\n",
       "       [1, 0, 850204814, 4],\n",
       "       [1, 27, 532243500, 28],\n",
       "       [1, 5, 330093765, 13],\n",
       "       [1, 2, 802062761, 29],\n",
       "       [1, 23, 372043101, 13],\n",
       "       [1, 5, 320823228, 20],\n",
       "       [1, 7, 602011718, 21],\n",
       "       [1, 26, 981552713, 18],\n",
       "       [2, 1, 900361714, 17],\n",
       "       [2, 21, 152032348, 10],\n",
       "       [1, 9, 672083714, 14],\n",
       "       [1, 19, 132031652, 5],\n",
       "       [2, 12, 208156734, 15],\n",
       "       [1, 14, 56310, 0],\n",
       "       [1, 27, 537920001, 22],\n",
       "       [1, 3, 69062269, 12],\n",
       "       [2, 7, 606172656, 9],\n",
       "       [1, 8, 473712124, 4],\n",
       "       [2, 17, 871104186, 1],\n",
       "       [1, 26, 983279796, 16],\n",
       "       [2, 25, 54465986, 2],\n",
       "       [1, 5, 336152872, 11],\n",
       "       [1, 16, 27858, 25],\n",
       "       [1, 13, 486248407, 5],\n",
       "       [1, 5, 327467403, 23],\n",
       "       [1, 1, 943013339, 24],\n",
       "       [1, 5, 329605225, 20],\n",
       "       [2, 1, 934584303, 3],\n",
       "       [1, 1, 954253373, 8],\n",
       "       [1, 6, 500232400, 4],\n",
       "       [2, 11, 708796028, 7],\n",
       "       [1, 19, 104653013, 21],\n",
       "       [1, 14, 554413859, 5]], dtype=object)"
      ]
     },
     "execution_count": 15,
     "metadata": {},
     "output_type": "execute_result"
    }
   ],
   "source": [
    "X_trainset, X_testset, y_trainset, y_testset = train_test_split(X, y, test_size=0.3, random_state=3)\n",
    "X_trainset"
   ]
  },
  {
   "cell_type": "code",
   "execution_count": 16,
   "metadata": {},
   "outputs": [
    {
     "data": {
      "text/plain": [
       "(35, 4)"
      ]
     },
     "execution_count": 16,
     "metadata": {},
     "output_type": "execute_result"
    }
   ],
   "source": [
    "X_trainset.shape"
   ]
  },
  {
   "cell_type": "code",
   "execution_count": 17,
   "metadata": {},
   "outputs": [
    {
     "data": {
      "text/plain": [
       "(35,)"
      ]
     },
     "execution_count": 17,
     "metadata": {},
     "output_type": "execute_result"
    }
   ],
   "source": [
    "y_trainset.shape"
   ]
  },
  {
   "cell_type": "code",
   "execution_count": 18,
   "metadata": {},
   "outputs": [
    {
     "data": {
      "text/plain": [
       "DecisionTreeClassifier(class_weight=None, criterion='entropy', max_depth=4,\n",
       "            max_features=None, max_leaf_nodes=None,\n",
       "            min_impurity_decrease=0.0, min_impurity_split=None,\n",
       "            min_samples_leaf=1, min_samples_split=2,\n",
       "            min_weight_fraction_leaf=0.0, presort=False, random_state=None,\n",
       "            splitter='best')"
      ]
     },
     "execution_count": 18,
     "metadata": {},
     "output_type": "execute_result"
    }
   ],
   "source": [
    "npiTree = DecisionTreeClassifier(criterion=\"entropy\", max_depth = 4)\n",
    "npiTree # it shows the default parameters"
   ]
  },
  {
   "cell_type": "code",
   "execution_count": 19,
   "metadata": {},
   "outputs": [
    {
     "data": {
      "text/plain": [
       "DecisionTreeClassifier(class_weight=None, criterion='entropy', max_depth=4,\n",
       "            max_features=None, max_leaf_nodes=None,\n",
       "            min_impurity_decrease=0.0, min_impurity_split=None,\n",
       "            min_samples_leaf=1, min_samples_split=2,\n",
       "            min_weight_fraction_leaf=0.0, presort=False, random_state=None,\n",
       "            splitter='best')"
      ]
     },
     "execution_count": 19,
     "metadata": {},
     "output_type": "execute_result"
    }
   ],
   "source": [
    "npiTree.fit(X_trainset,y_trainset)"
   ]
  },
  {
   "cell_type": "code",
   "execution_count": 20,
   "metadata": {},
   "outputs": [
    {
     "data": {
      "text/plain": [
       "array([[1, 1, 954253373, 7],\n",
       "       [1, 8, 672083714, 11],\n",
       "       [2, 10, 208156734, 12],\n",
       "       [2, 9, 708796028, 6],\n",
       "       [1, 6, 601722048, 19]], dtype=object)"
      ]
     },
     "execution_count": 20,
     "metadata": {},
     "output_type": "execute_result"
    }
   ],
   "source": [
    "predTree = npiTree.predict(X_1[0:4])\n",
    "X_1[0:5]"
   ]
  },
  {
   "cell_type": "code",
   "execution_count": 21,
   "metadata": {},
   "outputs": [
    {
     "name": "stdout",
     "output_type": "stream",
     "text": [
      "[1396819231 1164597779 1003981614 1205901824]\n"
     ]
    }
   ],
   "source": [
    "print (predTree [0:5])\n"
   ]
  },
  {
   "cell_type": "code",
   "execution_count": 22,
   "metadata": {},
   "outputs": [
    {
     "data": {
      "text/plain": [
       "array([[1, 1, 954253373, 7]], dtype=object)"
      ]
     },
     "execution_count": 22,
     "metadata": {},
     "output_type": "execute_result"
    }
   ],
   "source": [
    "X_1[0:1]\n",
    "\n"
   ]
  },
  {
   "cell_type": "code",
   "execution_count": 23,
   "metadata": {},
   "outputs": [
    {
     "ename": "ValueError",
     "evalue": "Found input variables with inconsistent numbers of samples: [15, 4]",
     "output_type": "error",
     "traceback": [
      "\u001b[1;31m---------------------------------------------------------------------------\u001b[0m",
      "\u001b[1;31mValueError\u001b[0m                                Traceback (most recent call last)",
      "\u001b[1;32m<ipython-input-23-81f2535f6cae>\u001b[0m in \u001b[0;36m<module>\u001b[1;34m()\u001b[0m\n\u001b[0;32m      1\u001b[0m \u001b[1;32mfrom\u001b[0m \u001b[0msklearn\u001b[0m \u001b[1;32mimport\u001b[0m \u001b[0mmetrics\u001b[0m\u001b[1;33m\u001b[0m\u001b[0m\n\u001b[0;32m      2\u001b[0m \u001b[1;32mimport\u001b[0m \u001b[0mmatplotlib\u001b[0m\u001b[1;33m.\u001b[0m\u001b[0mpyplot\u001b[0m \u001b[1;32mas\u001b[0m \u001b[0mplt\u001b[0m\u001b[1;33m\u001b[0m\u001b[0m\n\u001b[1;32m----> 3\u001b[1;33m \u001b[0mprint\u001b[0m\u001b[1;33m(\u001b[0m\u001b[1;34m\"DecisionTrees's Accuracy: \"\u001b[0m\u001b[1;33m,\u001b[0m \u001b[0mmetrics\u001b[0m\u001b[1;33m.\u001b[0m\u001b[0maccuracy_score\u001b[0m\u001b[1;33m(\u001b[0m\u001b[0my_testset\u001b[0m\u001b[1;33m,\u001b[0m \u001b[0mpredTree\u001b[0m\u001b[1;33m)\u001b[0m\u001b[1;33m)\u001b[0m\u001b[1;33m\u001b[0m\u001b[0m\n\u001b[0m",
      "\u001b[1;32mC:\\ProgramData\\Anaconda3\\lib\\site-packages\\sklearn\\metrics\\classification.py\u001b[0m in \u001b[0;36maccuracy_score\u001b[1;34m(y_true, y_pred, normalize, sample_weight)\u001b[0m\n\u001b[0;32m    174\u001b[0m \u001b[1;33m\u001b[0m\u001b[0m\n\u001b[0;32m    175\u001b[0m     \u001b[1;31m# Compute accuracy for each possible representation\u001b[0m\u001b[1;33m\u001b[0m\u001b[1;33m\u001b[0m\u001b[0m\n\u001b[1;32m--> 176\u001b[1;33m     \u001b[0my_type\u001b[0m\u001b[1;33m,\u001b[0m \u001b[0my_true\u001b[0m\u001b[1;33m,\u001b[0m \u001b[0my_pred\u001b[0m \u001b[1;33m=\u001b[0m \u001b[0m_check_targets\u001b[0m\u001b[1;33m(\u001b[0m\u001b[0my_true\u001b[0m\u001b[1;33m,\u001b[0m \u001b[0my_pred\u001b[0m\u001b[1;33m)\u001b[0m\u001b[1;33m\u001b[0m\u001b[0m\n\u001b[0m\u001b[0;32m    177\u001b[0m     \u001b[0mcheck_consistent_length\u001b[0m\u001b[1;33m(\u001b[0m\u001b[0my_true\u001b[0m\u001b[1;33m,\u001b[0m \u001b[0my_pred\u001b[0m\u001b[1;33m,\u001b[0m \u001b[0msample_weight\u001b[0m\u001b[1;33m)\u001b[0m\u001b[1;33m\u001b[0m\u001b[0m\n\u001b[0;32m    178\u001b[0m     \u001b[1;32mif\u001b[0m \u001b[0my_type\u001b[0m\u001b[1;33m.\u001b[0m\u001b[0mstartswith\u001b[0m\u001b[1;33m(\u001b[0m\u001b[1;34m'multilabel'\u001b[0m\u001b[1;33m)\u001b[0m\u001b[1;33m:\u001b[0m\u001b[1;33m\u001b[0m\u001b[0m\n",
      "\u001b[1;32mC:\\ProgramData\\Anaconda3\\lib\\site-packages\\sklearn\\metrics\\classification.py\u001b[0m in \u001b[0;36m_check_targets\u001b[1;34m(y_true, y_pred)\u001b[0m\n\u001b[0;32m     69\u001b[0m     \u001b[0my_pred\u001b[0m \u001b[1;33m:\u001b[0m \u001b[0marray\u001b[0m \u001b[1;32mor\u001b[0m \u001b[0mindicator\u001b[0m \u001b[0mmatrix\u001b[0m\u001b[1;33m\u001b[0m\u001b[0m\n\u001b[0;32m     70\u001b[0m     \"\"\"\n\u001b[1;32m---> 71\u001b[1;33m     \u001b[0mcheck_consistent_length\u001b[0m\u001b[1;33m(\u001b[0m\u001b[0my_true\u001b[0m\u001b[1;33m,\u001b[0m \u001b[0my_pred\u001b[0m\u001b[1;33m)\u001b[0m\u001b[1;33m\u001b[0m\u001b[0m\n\u001b[0m\u001b[0;32m     72\u001b[0m     \u001b[0mtype_true\u001b[0m \u001b[1;33m=\u001b[0m \u001b[0mtype_of_target\u001b[0m\u001b[1;33m(\u001b[0m\u001b[0my_true\u001b[0m\u001b[1;33m)\u001b[0m\u001b[1;33m\u001b[0m\u001b[0m\n\u001b[0;32m     73\u001b[0m     \u001b[0mtype_pred\u001b[0m \u001b[1;33m=\u001b[0m \u001b[0mtype_of_target\u001b[0m\u001b[1;33m(\u001b[0m\u001b[0my_pred\u001b[0m\u001b[1;33m)\u001b[0m\u001b[1;33m\u001b[0m\u001b[0m\n",
      "\u001b[1;32mC:\\ProgramData\\Anaconda3\\lib\\site-packages\\sklearn\\utils\\validation.py\u001b[0m in \u001b[0;36mcheck_consistent_length\u001b[1;34m(*arrays)\u001b[0m\n\u001b[0;32m    228\u001b[0m     \u001b[1;32mif\u001b[0m \u001b[0mlen\u001b[0m\u001b[1;33m(\u001b[0m\u001b[0muniques\u001b[0m\u001b[1;33m)\u001b[0m \u001b[1;33m>\u001b[0m \u001b[1;36m1\u001b[0m\u001b[1;33m:\u001b[0m\u001b[1;33m\u001b[0m\u001b[0m\n\u001b[0;32m    229\u001b[0m         raise ValueError(\"Found input variables with inconsistent numbers of\"\n\u001b[1;32m--> 230\u001b[1;33m                          \" samples: %r\" % [int(l) for l in lengths])\n\u001b[0m\u001b[0;32m    231\u001b[0m \u001b[1;33m\u001b[0m\u001b[0m\n\u001b[0;32m    232\u001b[0m \u001b[1;33m\u001b[0m\u001b[0m\n",
      "\u001b[1;31mValueError\u001b[0m: Found input variables with inconsistent numbers of samples: [15, 4]"
     ]
    }
   ],
   "source": [
    "from sklearn import metrics\n",
    "import matplotlib.pyplot as plt\n",
    "print(\"DecisionTrees's Accuracy: \", metrics.accuracy_score(y_testset, predTree))"
   ]
  },
  {
   "cell_type": "code",
   "execution_count": 25,
   "metadata": {},
   "outputs": [
    {
     "data": {
      "text/plain": [
       "array([[1, 19, 112032057, 28],\n",
       "       [1, 5, 335115911, 26],\n",
       "       [1, 18, 891092428, 21],\n",
       "       [1, 14, 55350, 27],\n",
       "       [1, 19, 115902025, 4],\n",
       "       [1, 20, 436143464, 23],\n",
       "       [2, 15, 657082333, 19],\n",
       "       [1, 4, 200072113, 18],\n",
       "       [1, 24, 770821658, 20],\n",
       "       [1, 26, 980077666, 21],\n",
       "       [1, 7, 601722048, 23],\n",
       "       [1, 22, 9213630, 13],\n",
       "       [1, 10, 410113775, 5],\n",
       "       [1, 1, 926837450, 15],\n",
       "       [1, 7, 601722048, 23]], dtype=object)"
      ]
     },
     "execution_count": 25,
     "metadata": {},
     "output_type": "execute_result"
    }
   ],
   "source": [
    "X_testset\n"
   ]
  },
  {
   "cell_type": "code",
   "execution_count": null,
   "metadata": {},
   "outputs": [],
   "source": []
  },
  {
   "cell_type": "code",
   "execution_count": null,
   "metadata": {},
   "outputs": [],
   "source": []
  },
  {
   "cell_type": "code",
   "execution_count": null,
   "metadata": {},
   "outputs": [],
   "source": []
  },
  {
   "cell_type": "code",
   "execution_count": null,
   "metadata": {},
   "outputs": [],
   "source": []
  },
  {
   "cell_type": "code",
   "execution_count": null,
   "metadata": {},
   "outputs": [],
   "source": []
  },
  {
   "cell_type": "code",
   "execution_count": null,
   "metadata": {},
   "outputs": [],
   "source": []
  }
 ],
 "metadata": {
  "kernelspec": {
   "display_name": "Python 3",
   "language": "python",
   "name": "python3"
  },
  "language_info": {
   "codemirror_mode": {
    "name": "ipython",
    "version": 3
   },
   "file_extension": ".py",
   "mimetype": "text/x-python",
   "name": "python",
   "nbconvert_exporter": "python",
   "pygments_lexer": "ipython3",
   "version": "3.6.5"
  }
 },
 "nbformat": 4,
 "nbformat_minor": 2
}
